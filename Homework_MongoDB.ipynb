{
 "cells": [
  {
   "cell_type": "code",
   "execution_count": 39,
   "metadata": {
    "collapsed": true
   },
   "outputs": [],
   "source": [
    "from pymongo import MongoClient\n",
    "mongo_server = '52.14.175.152'"
   ]
  },
  {
   "cell_type": "markdown",
   "metadata": {},
   "source": [
    " 1) 위의 예제에서 주별 1000만 이사의 인구를 가지는 주를 필터링 하는 예제를 aggregation을 쓰지않고 직접 python으로 구현해보세요."
   ]
  },
  {
   "cell_type": "code",
   "execution_count": 40,
   "metadata": {},
   "outputs": [
    {
     "name": "stdout",
     "output_type": "stream",
     "text": [
      "FL 12686644\n",
      "TX 16984601\n",
      "NY 17990402\n",
      "PA 11881643\n",
      "CA 29754890\n",
      "IL 11427576\n",
      "OH 10846517\n"
     ]
    }
   ],
   "source": [
    "mongo = MongoClient (mongo_server, 54329)\n",
    "col = mongo.mydata.zip\n",
    "\n",
    "\n",
    "results = col.find()\n",
    "\n",
    "    \n",
    "    \n",
    "d = dict()\n",
    "\n",
    "for doc in results:\n",
    "    z = doc['state'] # state를 key로 지정\n",
    "    if z not in d:\n",
    "        d[z] = doc[\"pop\"] # 인구수를 value로 \n",
    "    else:\n",
    "        d[z] = d[z] + doc['pop'] #기존에 state가 있으면 pop만 더함\n",
    "        \n",
    "for state in d:\n",
    "    if d[state] >= 10*1000*1000:\n",
    "        print state, d[state]\n",
    "       "
   ]
  },
  {
   "cell_type": "markdown",
   "metadata": {},
   "source": [
    " 2)  import한 restaurant 데이터를 가지고 각 borough 마다 레스토랑이 몇 개있는지 계산하시오. (완)"
   ]
  },
  {
   "cell_type": "code",
   "execution_count": 41,
   "metadata": {},
   "outputs": [
    {
     "name": "stdout",
     "output_type": "stream",
     "text": [
      "{u'total': 51, u'_id': u'Missing'}\n",
      "{u'total': 969, u'_id': u'Staten Island'}\n",
      "{u'total': 6086, u'_id': u'Brooklyn'}\n",
      "{u'total': 2338, u'_id': u'Bronx'}\n",
      "{u'total': 5656, u'_id': u'Queens'}\n",
      "{u'total': 10259, u'_id': u'Manhattan'}\n"
     ]
    }
   ],
   "source": [
    "mongo = MongoClient (mongo_server, 54329)\n",
    "col = mongo.mydata.restaurant\n",
    "\n",
    "\n",
    "pipelines = []\n",
    "pipelines.append({'$group':{'_id':'$borough', 'total':{'$sum':1} }})\n",
    "\n",
    "result = col.aggregate(pipelines)\n",
    "\n",
    "for doc in result:\n",
    "    print doc"
   ]
  },
  {
   "cell_type": "markdown",
   "metadata": {},
   "source": [
    " 3) address의 zipcode별로 'Brazilian' 레스토랑이 몇개 있는지 계산하시오 (완)"
   ]
  },
  {
   "cell_type": "code",
   "execution_count": 42,
   "metadata": {},
   "outputs": [
    {
     "name": "stdout",
     "output_type": "stream",
     "text": [
      "{u'no of Brazilian': 1, u'_id': {u'zipcode': u'11238'}}\n",
      "{u'no of Brazilian': 3, u'_id': {u'zipcode': u'11106'}}\n",
      "{u'no of Brazilian': 1, u'_id': {u'zipcode': u'10002'}}\n",
      "{u'no of Brazilian': 2, u'_id': {u'zipcode': u'10014'}}\n",
      "{u'no of Brazilian': 2, u'_id': {u'zipcode': u'11101'}}\n",
      "{u'no of Brazilian': 1, u'_id': {u'zipcode': u'11377'}}\n",
      "{u'no of Brazilian': 1, u'_id': {u'zipcode': u'10034'}}\n",
      "{u'no of Brazilian': 1, u'_id': {u'zipcode': u'11368'}}\n",
      "{u'no of Brazilian': 1, u'_id': {u'zipcode': u'10009'}}\n",
      "{u'no of Brazilian': 4, u'_id': {u'zipcode': u'10036'}}\n",
      "{u'no of Brazilian': 1, u'_id': {u'zipcode': u'10128'}}\n",
      "{u'no of Brazilian': 3, u'_id': {u'zipcode': u'10019'}}\n",
      "{u'no of Brazilian': 2, u'_id': {u'zipcode': u'10065'}}\n",
      "{u'no of Brazilian': 2, u'_id': {u'zipcode': u'11211'}}\n",
      "{u'no of Brazilian': 1, u'_id': {u'zipcode': u'11103'}}\n"
     ]
    }
   ],
   "source": [
    "mongo = MongoClient (mongo_server, 54329)\n",
    "col = mongo.mydata.restaurant\n",
    "\n",
    "\n",
    "pipelines = []\n",
    "pipelines.append({'$match':{\"cuisine\":'Brazilian'}})\n",
    "pipelines.append({'$group':{'_id':{'zipcode':'$address.zipcode'}, 'no of Brazilian':{'$sum':1}}})\n",
    "\n",
    "\n",
    "result = col.aggregate(pipelines)\n",
    "\n",
    "for doc in result:\n",
    "    print doc"
   ]
  },
  {
   "cell_type": "markdown",
   "metadata": {},
   "source": [
    " 4) 평균평점이 가장 높은 레스토랑을 5개 추출하세요 (완)"
   ]
  },
  {
   "cell_type": "code",
   "execution_count": 43,
   "metadata": {},
   "outputs": [
    {
     "name": "stdout",
     "output_type": "stream",
     "text": [
      "{u'_id': ObjectId('596efb666490e9138ab279eb'),\n",
      " u'address': {u'building': u'1068',\n",
      "              u'coord': [-73.958167, 40.681357],\n",
      "              u'street': u'Fulton Street',\n",
      "              u'zipcode': u'11238'},\n",
      " u'borough': u'Brooklyn',\n",
      " u'cuisine': u'Juice, Smoothies, Fruit Salads',\n",
      " u'grades': [{u'date': datetime.datetime(2015, 1, 20, 0, 0),\n",
      "              u'grade': u'Not Yet Graded',\n",
      "              u'score': 75}],\n",
      " u'name': u'Juice It Health Bar',\n",
      " u'restaurant_id': u'50015959'}\n",
      "\n",
      "{u'average': 75.0, u'_id': u'50015959', u'borough': u'Brooklyn', u'name': u'Juice It Health Bar'}\n",
      "{u'average': 73.0, u'_id': u'50017374', u'borough': u'Bronx', u'name': u'Golden Dragon Cuisine'}\n",
      "{u'average': 69.0, u'_id': u'50018457', u'borough': u'Brooklyn', u'name': u\"Chelsea'S Juice Factory\"}\n",
      "{u'average': 69.0, u'_id': u'50015245', u'borough': u'Bronx', u'name': u'Palombo Pastry Shop'}\n",
      "{u'average': 65.0, u'_id': u'41703965', u'borough': u'Manhattan', u'name': u'Go Go Curry'}\n"
     ]
    }
   ],
   "source": [
    "from pprint import pprint\n",
    "\n",
    "mongo = MongoClient (mongo_server, 54329)\n",
    "col = mongo.mydata.restaurant\n",
    "\n",
    "\n",
    "# 이건 그냥 1위 레스토랑의 세부 사항 출력---------------\n",
    "finds = col.find({\"name\" : 'Juice It Health Bar'})\n",
    "for doc in finds:\n",
    "    pprint (doc)\n",
    "    print \n",
    "# ------------------------------------------------------    \n",
    "    \n",
    "pipelines = []\n",
    "\n",
    "pipelines.append({'$project': {'_id':'$restaurant_id','name':'$name', \n",
    "                               'borough':'$borough',\n",
    "                               'average': {'$avg':\"$grades.score\"}}}) #각 레스토랑의 평균 구함\n",
    "pipelines.append({'$sort':{'average':-1}}) # 평균을 내림차순으로 정리 함\n",
    "pipelines.append({'$limit':5} )  # 5개까지\n",
    "\n",
    "\n",
    "result = col.aggregate(pipelines)\n",
    "\n",
    "\n",
    "for doc in result:\n",
    "    print doc"
   ]
  },
  {
   "cell_type": "markdown",
   "metadata": {},
   "source": [
    " 5) cusine별로 평점이 가장 높은 레스토랑을 추출하세요"
   ]
  },
  {
   "cell_type": "code",
   "execution_count": 74,
   "metadata": {},
   "outputs": [
    {
     "name": "stdout",
     "output_type": "stream",
     "text": [
      "{u'_id': u'Chilean', u'name': u'Corwn Fried Chicken And Fish', u'score': 6.0}\n",
      "{u'_id': u'Czech',\n",
      " u'name': u'Bohemian Beer Garden',\n",
      " u'score': 12.166666666666666}\n",
      "{u'_id': u'Nuts/Confectionary', u'name': u'Laduree', u'score': 12.0}\n",
      "{u'_id': u'Caf\\xc3\\xa9/Coffee/Tea',\n",
      " u'name': u\"Mike'S Coffee Shop\",\n",
      " u'score': 13.25}\n",
      "{u'_id': u'Salads', u'name': u'Just Salad', u'score': 13.8}\n",
      "{u'_id': u'Hotdogs', u'name': u\"Nathan'S Famous\", u'score': 14.0}\n",
      "{u'_id': u'Egyptian', u'name': u'Zoe Cafe', u'score': 14.5}\n",
      "{u'_id': u'Portuguese', u'name': u'Pao', u'score': 16.0}\n",
      "{u'_id': u'Southwestern', u'name': u'The Cardinal', u'score': 16.8}\n",
      "{u'_id': u'Ethiopian',\n",
      " u'name': u'Lalibela Ethiopian Restaurant',\n",
      " u'score': 17.5}\n",
      "{u'_id': u'Afghan', u'name': u'Bakhter Afghan Halal Kabab', u'score': 18.25}\n",
      "{u'_id': u'Hawaiian', u'name': u'Makana', u'score': 20.0}\n",
      "{u'_id': u'Hotdogs/Pretzels', u'name': u\"Auntie Anne'S\", u'score': 21.5}\n",
      "{u'_id': u'Bottled beverages, including water, sodas, juices, etc.',\n",
      " u'name': u'Lol New York',\n",
      " u'score': 22.0}\n",
      "{u'_id': u'Pancakes/Waffles', u'name': u'Ihop', u'score': 22.5}\n",
      "{u'_id': u'Barbecue', u'name': u'Harlem Bar-B-Q', u'score': 22.75}\n",
      "{u'_id': u'Soups',\n",
      " u'name': u'Original Soupman Of Staten Island',\n",
      " u'score': 16.5}\n",
      "{u'_id': u'Donuts', u'name': u'Donut Shoppe', u'score': 23.166666666666668}\n",
      "{u'_id': u'Filipino', u'name': u'Umi Nom', u'score': 23.2}\n",
      "{u'_id': u'Steak',\n",
      " u'name': u\"Bobby Van'S Steakhouse\",\n",
      " u'score': 24.333333333333332}\n",
      "{u'_id': u'Chinese/Cuban',\n",
      " u'name': u'Leon De Oro Rest.',\n",
      " u'score': 24.333333333333332}\n",
      "{u'_id': u'Polish', u'name': u'Dziupla', u'score': 25.0}\n",
      "{u'_id': u'Sandwiches', u'name': u'Subway', u'score': 26.0}\n",
      "{u'_id': u'Soups & Sandwiches', u'name': u'Hale And Hearty', u'score': 22.0}\n",
      "{u'_id': u'Peruvian', u'name': u'Urubamba', u'score': 26.0}\n",
      "{u'_id': u'Australian', u'name': u'Bluestone Lane Coffee', u'score': 38.0}\n",
      "{u'_id': u'Thai', u'name': u'Tumdri', u'score': 40.0}\n",
      "{u'_id': u'Pizza/Italian', u'name': u'Il Pomodoro Pizza', u'score': 40.0}\n",
      "{u'_id': u'Bangladeshi', u'name': u'Haat Bazaar', u'score': 40.0}\n",
      "{u'_id': u'Ice Cream, Gelato, Yogurt, Ices',\n",
      " u'name': u'Flora Sweet House',\n",
      " u'score': 42.0}\n",
      "{u'_id': u'Italian', u'name': u'Paprika', u'score': 37.0}\n",
      "{u'_id': u'Sandwiches/Salads/Mixed Buffet', u'name': u'Subway', u'score': 29.0}\n",
      "{u'_id': u'Tapas', u'name': u'Evr', u'score': 24.0}\n",
      "{u'_id': u'Chinese/Japanese', u'name': u'Aoyama Sushi', u'score': 43.0}\n",
      "{u'_id': u'Caribbean', u'name': u'Creole 516 ', u'score': 43.0}\n",
      "{u'_id': u'American', u'name': u'Espace', u'score': 56.0}\n",
      "{u'_id': u'Spanish', u'name': u'Antojitos Retaurant', u'score': 43.0}\n",
      "{u'_id': u'Irish', u'name': u'Gaelic Park', u'score': 28.0}\n",
      "{u'_id': u'Vietnamese/Cambodian/Malaysia',\n",
      " u'name': u'Pho Thanh Hoai 1',\n",
      " u'score': 41.0}\n",
      "{u'_id': u'Turkish', u'name': u'Cocoa Grinder', u'score': 33.0}\n",
      "{u'_id': u'Korean', u'name': u'Spa Castle Premier', u'score': 41.0}\n",
      "{u'_id': u'Pizza', u'name': u'Rose Pizza', u'score': 52.0}\n",
      "{u'_id': u'Polynesian', u'name': u'Camaradas El Barrio', u'score': 14.6}\n",
      "{u'_id': u'Chinese', u'name': u'Golden Dragon Cuisine', u'score': 73.0}\n",
      "{u'_id': u'Caf\\xe9/Coffee/Tea', u'name': u'K & D Internet Inc', u'score': 61.0}\n",
      "{u'_id': u'Juice, Smoothies, Fruit Salads',\n",
      " u'name': u'Juice It Health Bar',\n",
      " u'score': 75.0}\n",
      "{u'_id': u'Other', u'name': u'Ivory D O S  Inc', u'score': 60.0}\n",
      "{u'_id': u'Middle Eastern', u'name': u'Koyla', u'score': 61.0}\n",
      "{u'_id': u'Californian', u'name': u\"Ellary'S Greens\", u'score': 12.0}\n",
      "{u'_id': u'Latin (Cuban, Dominican, Puerto Rican, South & Central American)',\n",
      " u'name': u'J J Sport Restaurant',\n",
      " u'score': 48.0}\n",
      "{u'_id': u'Greek', u'name': u'Central', u'score': 22.5}\n",
      "{u'_id': u'Japanese', u'name': u'Go Go Curry', u'score': 65.0}\n",
      "{u'_id': u'French', u'name': u'Cheri', u'score': 46.0}\n",
      "{u'_id': u'Mexican', u'name': u'Tacos Al Suadero', u'score': 52.0}\n",
      "{u'_id': u'Eastern European', u'name': u'Trakia Restaurant', u'score': 28.5}\n",
      "{u'_id': u'Iranian', u'name': u'Ravagh Persian Grill', u'score': 21.5}\n",
      "{u'_id': u'Chicken', u'name': u'Crown Fried Chicken', u'score': 38.0}\n",
      "{u'_id': u'Indian',\n",
      " u'name': u'Aladdin Hookah Lounge & Bar Inc',\n",
      " u'score': 38.0}\n",
      "{u'_id': u'Tex-Mex', u'name': u'Selena Rosa Mexicana', u'score': 35.0}\n",
      "{u'_id': u'Asian', u'name': u'St George Tower', u'score': 37.0}\n",
      "{u'_id': u'Delicatessen', u'name': u\"Max'S Deli & Coffee Shop\", u'score': 35.0}\n",
      "{u'_id': u'Brazilian',\n",
      " u'name': u'Texas De Brazil Churrascaria',\n",
      " u'score': 34.0}\n",
      "{u'_id': u'Jewish/Kosher',\n",
      " u'name': u'The Original Jerusalem Ii Cafe',\n",
      " u'score': 34.0}\n",
      "{u'_id': u'Bakery', u'name': u'Palombo Pastry Shop', u'score': 69.0}\n",
      "{u'_id': u'Seafood', u'name': u'Club Nova', u'score': 34.0}\n",
      "{u'_id': u'Moroccan', u'name': u'Casa Lounge', u'score': 23.5}\n",
      "{u'_id': u'Vegetarian', u'name': u'Zen Palate', u'score': 32.5}\n",
      "{u'_id': u'English', u'name': u'Whitehall', u'score': 22.8}\n",
      "{u'_id': u'Soul Food', u'name': u'East Broadway Cafe', u'score': 26.0}\n",
      "{u'_id': u'Armenian', u'name': u'Five Town Cafe', u'score': 27.0}\n",
      "{u'_id': u'Continental', u'name': u'Dylan Hotel', u'score': 33.0}\n",
      "{u'_id': u'Pakistani', u'name': u'Curry Kabab', u'score': 33.0}\n",
      "{u'_id': u'Creole/Cajun', u'name': u'Popeyes', u'score': 6.0}\n",
      "{u'_id': u'Not Listed/Not Applicable',\n",
      " u'name': u\"Julia'S Beer And Wine Bar Llc\",\n",
      " u'score': 15.0}\n",
      "{u'_id': u'Russian', u'name': u'Tandir Rokhat', u'score': 32.0}\n",
      "{u'_id': u'Fruits/Vegetables', u'name': u'Tropical Smoochies', u'score': 10.5}\n",
      "{u'_id': u'Indonesian', u'name': u'Java Restaurant', u'score': 15.0}\n",
      "{u'_id': u'Creole',\n",
      " u'name': u'Chez Nous Restaurant & Fritaille',\n",
      " u'score': 31.0}\n",
      "{u'_id': u'Cajun', u'name': u'G & L Cajun Grill', u'score': 13.25}\n",
      "{u'_id': u'African', u'name': u'Buka', u'score': 30.4}\n",
      "{u'_id': u'Bagels/Pretzels', u'name': u\"Auntie Anne'S\", u'score': 30.0}\n",
      "{u'_id': u'German', u'name': u'Brooklyn Buschenschank', u'score': 28.25}\n",
      "{u'_id': u'Mediterranean', u'name': u'Dolphins Diner', u'score': 28.0}\n",
      "{u'_id': u'Scandinavian', u'name': u'Fika', u'score': 16.428571428571427}\n",
      "{u'_id': u'Hamburgers', u'name': u'Joy Burger Bar', u'score': 26.0}\n"
     ]
    }
   ],
   "source": [
    "from pprint import pprint\n",
    "#3\n",
    "mongo = MongoClient (mongo_server, 54329)\n",
    "col = mongo.mydata.restaurant\n",
    "\n",
    "result = col.find()\n",
    "\n",
    "pipelines = []\n",
    "\n",
    "pipelines.append({'$project': {'_id':'$restaurant_id','cuisine':'$cuisine','name':'$name', \n",
    "                               'borough':'$borough',\n",
    "                               'average': {'$avg':\"$grades.score\"}}}) #각 레스토랑의 평균 구함\n",
    "pipelines.append({'$group': {'_id':{'cuisine':'$cuisine', 'name':'$name'},\n",
    "                             'max_score':{'$max':'$average'}}})\n",
    "#cuisine과 name으로 묶고, 평균의 최대값을 구함\n",
    "pipelines.append({\"$sort\":{'_id.cuisine':1, 'max_score':-1}})\n",
    "#정렬\n",
    "\n",
    "pipelines.append({'$group':{'_id':'$_id.cuisine',\n",
    "                            'name':{'$first':'$_id.name'},\n",
    "                            'score':{'$first':'$max_score'}}})\n",
    "#cuisine별로 제일 위의 값 1개를 가져옴\n",
    "\n",
    "\n",
    "\n",
    "\n",
    "\n",
    "\n",
    "result = col.aggregate(pipelines)\n",
    "\n",
    "for doc in result:\n",
    "    pprint (doc)\n",
    "    "
   ]
  },
  {
   "cell_type": "code",
   "execution_count": null,
   "metadata": {
    "collapsed": true
   },
   "outputs": [],
   "source": []
  }
 ],
 "metadata": {
  "kernelspec": {
   "display_name": "Python 2",
   "language": "python",
   "name": "python2"
  },
  "language_info": {
   "codemirror_mode": {
    "name": "ipython",
    "version": 2
   },
   "file_extension": ".py",
   "mimetype": "text/x-python",
   "name": "python",
   "nbconvert_exporter": "python",
   "pygments_lexer": "ipython2",
   "version": "2.7.13"
  }
 },
 "nbformat": 4,
 "nbformat_minor": 2
}

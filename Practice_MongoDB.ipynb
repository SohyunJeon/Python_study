{
 "cells": [
  {
   "cell_type": "code",
   "execution_count": 117,
   "metadata": {
    "collapsed": true
   },
   "outputs": [],
   "source": [
    "mongo_server = '52.14.175.152'\n",
    "mongo_port = 54329\n",
    "import pymongo"
   ]
  },
  {
   "cell_type": "code",
   "execution_count": 118,
   "metadata": {
    "collapsed": true
   },
   "outputs": [],
   "source": [
    "from pymongo import MongoClient\n",
    "\n",
    "mongo = MongoClient(mongo_server, mongo_port)\n",
    "student = mongo.mydata.student  # DBName : mydata / collection: student\n"
   ]
  },
  {
   "cell_type": "code",
   "execution_count": 119,
   "metadata": {},
   "outputs": [
    {
     "data": {
      "text/plain": [
       "<pymongo.results.InsertOneResult at 0x89a8e18>"
      ]
     },
     "execution_count": 119,
     "metadata": {},
     "output_type": "execute_result"
    }
   ],
   "source": [
    "#insert one\n",
    "student.insert_one({\"name\":\"sherry\", \"age\":18})"
   ]
  },
  {
   "cell_type": "code",
   "execution_count": 120,
   "metadata": {
    "collapsed": true
   },
   "outputs": [],
   "source": [
    "#find\n",
    "for doc in student.find({\"name\":\"Sherry\"}):\n",
    "    print doc['name']"
   ]
  },
  {
   "cell_type": "markdown",
   "metadata": {},
   "source": [
    "## Insertion Example\n",
    "<br>\n",
    "* insertone"
   ]
  },
  {
   "cell_type": "code",
   "execution_count": 121,
   "metadata": {
    "collapsed": true
   },
   "outputs": [],
   "source": [
    "import requests\n",
    "import re\n",
    "import datetime\n",
    "from bs4 import BeautifulSoup\n",
    "from pymongo import MongoClient\n",
    "\n",
    "def get_hot_actors():\n",
    "    cine_url = 'http://www.cine21.com/rank/person/content'\n",
    "    \n",
    "    mongo = MongoClient(mongo_server, mongo_port)\n",
    "    # make mongo driver\n",
    "    \n",
    "    db = mongo.cine22 # db name\n",
    "    actor = db.actor # collection name\n",
    "    \n",
    "    #head\n",
    "    data1 = {}\n",
    "    data1['section'] = 'actor'\n",
    "    \n",
    "    "
   ]
  },
  {
   "cell_type": "code",
   "execution_count": null,
   "metadata": {
    "collapsed": true
   },
   "outputs": [],
   "source": []
  },
  {
   "cell_type": "code",
   "execution_count": 122,
   "metadata": {
    "collapsed": true
   },
   "outputs": [],
   "source": [
    "mongo = MongoClient(mongo_server, mongo_port)\n",
    "articles = mongo.db.articles"
   ]
  },
  {
   "cell_type": "code",
   "execution_count": 123,
   "metadata": {},
   "outputs": [
    {
     "name": "stdout",
     "output_type": "stream",
     "text": [
      "<class 'pymongo.command_cursor.CommandCursor'>\n",
      "CA 29754890\n",
      "FL 12686644\n",
      "PA 11881643\n",
      "NY 17990402\n",
      "OH 10846517\n",
      "IL 11427576\n",
      "TX 16984601\n"
     ]
    }
   ],
   "source": [
    "from pymongo import MongoClient\n",
    "mongo_server = '52.14.175.152'\n",
    "mongo = MongoClient(mongo_server, 54329)\n",
    "\n",
    "col = mongo.mydata.zip\n",
    "#'''{'$group}'''\\\n",
    "\n",
    "pipelines = []\n",
    "pipelines.append({'$group': {'_id':'$state', \n",
    "                             'totalPop':{'$sum':'$pop'}}})\n",
    "pipelines.append({'$match': {'totalPop':{'$gte': 10*1000*1000}}})\n",
    "\n",
    "result = col.aggregate(pipelines)\n",
    "\n",
    "print type(result)\n",
    "\n",
    "for doc in result:\n",
    "    print doc['_id'], doc['totalPop']\n",
    " \n",
    "    #print doc['_i']"
   ]
  },
  {
   "cell_type": "code",
   "execution_count": 124,
   "metadata": {},
   "outputs": [
    {
     "name": "stdout",
     "output_type": "stream",
     "text": [
      "{u'state': u'DE', u'biggestCity': {u'name': u'NEWARK', u'pop': 111674}, u'smallestCity': {u'name': u'BETHEL', u'pop': 108}}\n",
      "{u'state': u'MS', u'biggestCity': {u'name': u'JACKSON', u'pop': 204788}, u'smallestCity': {u'name': u'CHUNKY', u'pop': 79}}\n",
      "{u'state': u'RI', u'biggestCity': {u'name': u'CRANSTON', u'pop': 176404}, u'smallestCity': {u'name': u'CLAYVILLE', u'pop': 45}}\n",
      "{u'state': u'MO', u'biggestCity': {u'name': u'SAINT LOUIS', u'pop': 397802}, u'smallestCity': {u'name': u'BENDAVIS', u'pop': 44}}\n",
      "{u'state': u'GA', u'biggestCity': {u'name': u'ATLANTA', u'pop': 609591}, u'smallestCity': {u'name': u'FORT STEWART', u'pop': 0}}\n",
      "{u'state': u'MN', u'biggestCity': {u'name': u'MINNEAPOLIS', u'pop': 344719}, u'smallestCity': {u'name': u'JOHNSON', u'pop': 12}}\n",
      "{u'state': u'VT', u'biggestCity': {u'name': u'BURLINGTON', u'pop': 39127}, u'smallestCity': {u'name': u'UNIV OF VERMONT', u'pop': 0}}\n",
      "{u'state': u'NM', u'biggestCity': {u'name': u'ALBUQUERQUE', u'pop': 449584}, u'smallestCity': {u'name': u'MONUMENT', u'pop': 0}}\n",
      "{u'state': u'FL', u'biggestCity': {u'name': u'MIAMI', u'pop': 825232}, u'smallestCity': {u'name': u'CECIL FIELD NAS', u'pop': 0}}\n",
      "{u'state': u'AR', u'biggestCity': {u'name': u'LITTLE ROCK', u'pop': 192895}, u'smallestCity': {u'name': u'TOMATO', u'pop': 0}}\n",
      "{u'state': u'CA', u'biggestCity': {u'name': u'LOS ANGELES', u'pop': 2102295}, u'smallestCity': {u'name': u'OREGON HOUSE', u'pop': 0}}\n",
      "{u'state': u'MT', u'biggestCity': {u'name': u'BILLINGS', u'pop': 78805}, u'smallestCity': {u'name': u'MOSBY', u'pop': 7}}\n",
      "{u'state': u'MD', u'biggestCity': {u'name': u'BALTIMORE', u'pop': 733081}, u'smallestCity': {u'name': u'ANNAPOLIS JUNCTI', u'pop': 32}}\n",
      "{u'state': u'CO', u'biggestCity': {u'name': u'DENVER', u'pop': 451182}, u'smallestCity': {u'name': u'CHEYENNE MTN AFB', u'pop': 0}}\n",
      "{u'state': u'PA', u'biggestCity': {u'name': u'PHILADELPHIA', u'pop': 1610956}, u'smallestCity': {u'name': u'HAMILTON', u'pop': 0}}\n",
      "{u'state': u'OR', u'biggestCity': {u'name': u'PORTLAND', u'pop': 518543}, u'smallestCity': {u'name': u'LYONS', u'pop': 0}}\n",
      "{u'state': u'AL', u'biggestCity': {u'name': u'BIRMINGHAM', u'pop': 242606}, u'smallestCity': {u'name': u'ALLEN', u'pop': 0}}\n",
      "{u'state': u'KS', u'biggestCity': {u'name': u'WICHITA', u'pop': 295115}, u'smallestCity': {u'name': u'ARNOLD', u'pop': 0}}\n",
      "{u'state': u'ME', u'biggestCity': {u'name': u'PORTLAND', u'pop': 63268}, u'smallestCity': {u'name': u'BUSTINS ISLAND', u'pop': 0}}\n",
      "{u'state': u'MI', u'biggestCity': {u'name': u'DETROIT', u'pop': 963243}, u'smallestCity': {u'name': u'LELAND', u'pop': 0}}\n",
      "{u'state': u'HI', u'biggestCity': {u'name': u'HONOLULU', u'pop': 396643}, u'smallestCity': {u'name': u'NINOLE', u'pop': 0}}\n",
      "{u'state': u'MA', u'biggestCity': {u'name': u'WORCESTER', u'pop': 169856}, u'smallestCity': {u'name': u'BUCKLAND', u'pop': 16}}\n",
      "{u'state': u'ID', u'biggestCity': {u'name': u'BOISE', u'pop': 165522}, u'smallestCity': {u'name': u'KEUTERVILLE', u'pop': 0}}\n",
      "{u'state': u'LA', u'biggestCity': {u'name': u'NEW ORLEANS', u'pop': 496937}, u'smallestCity': {u'name': u'LAFITTE', u'pop': 0}}\n",
      "{u'state': u'TX', u'biggestCity': {u'name': u'HOUSTON', u'pop': 2095918}, u'smallestCity': {u'name': u'ECLETO', u'pop': 0}}\n",
      "{u'state': u'NC', u'biggestCity': {u'name': u'CHARLOTTE', u'pop': 465833}, u'smallestCity': {u'name': u'GLOUCESTER', u'pop': 0}}\n",
      "{u'state': u'NE', u'biggestCity': {u'name': u'OMAHA', u'pop': 358930}, u'smallestCity': {u'name': u'LAKESIDE', u'pop': 5}}\n",
      "{u'state': u'NV', u'biggestCity': {u'name': u'LAS VEGAS', u'pop': 597557}, u'smallestCity': {u'name': u'TUSCARORA', u'pop': 1}}\n",
      "{u'state': u'AZ', u'biggestCity': {u'name': u'PHOENIX', u'pop': 890853}, u'smallestCity': {u'name': u'HUALAPAI', u'pop': 2}}\n",
      "{u'state': u'DC', u'biggestCity': {u'name': u'WASHINGTON', u'pop': 606879}, u'smallestCity': {u'name': u'PENTAGON', u'pop': 21}}\n",
      "{u'state': u'SC', u'biggestCity': {u'name': u'COLUMBIA', u'pop': 269521}, u'smallestCity': {u'name': u'QUINBY', u'pop': 0}}\n",
      "{u'state': u'WA', u'biggestCity': {u'name': u'SEATTLE', u'pop': 520096}, u'smallestCity': {u'name': u'BENGE', u'pop': 2}}\n",
      "{u'state': u'TN', u'biggestCity': {u'name': u'MEMPHIS', u'pop': 632837}, u'smallestCity': {u'name': u'ALLRED', u'pop': 2}}\n",
      "{u'state': u'WI', u'biggestCity': {u'name': u'MILWAUKEE', u'pop': 597324}, u'smallestCity': {u'name': u'CLAM LAKE', u'pop': 2}}\n",
      "{u'state': u'NH', u'biggestCity': {u'name': u'MANCHESTER', u'pop': 106452}, u'smallestCity': {u'name': u'WEST NOTTINGHAM', u'pop': 27}}\n",
      "{u'state': u'OK', u'biggestCity': {u'name': u'TULSA', u'pop': 389072}, u'smallestCity': {u'name': u'SOUTHARD', u'pop': 8}}\n",
      "{u'state': u'IN', u'biggestCity': {u'name': u'INDIANAPOLIS', u'pop': 348868}, u'smallestCity': {u'name': u'WESTPOINT', u'pop': 145}}\n",
      "{u'state': u'VA', u'biggestCity': {u'name': u'VIRGINIA BEACH', u'pop': 385080}, u'smallestCity': {u'name': u'WALLOPS ISLAND', u'pop': 0}}\n",
      "{u'state': u'SD', u'biggestCity': {u'name': u'SIOUX FALLS', u'pop': 102046}, u'smallestCity': {u'name': u'ZEONA', u'pop': 8}}\n",
      "{u'state': u'WY', u'biggestCity': {u'name': u'CHEYENNE', u'pop': 70185}, u'smallestCity': {u'name': u'LOST SPRINGS', u'pop': 6}}\n",
      "{u'state': u'UT', u'biggestCity': {u'name': u'SALT LAKE CITY', u'pop': 186346}, u'smallestCity': {u'name': u'MODENA', u'pop': 9}}\n",
      "{u'state': u'KY', u'biggestCity': {u'name': u'LOUISVILLE', u'pop': 288058}, u'smallestCity': {u'name': u'BIG LAUREL', u'pop': 0}}\n",
      "{u'state': u'OH', u'biggestCity': {u'name': u'CLEVELAND', u'pop': 536759}, u'smallestCity': {u'name': u'ISLE SAINT GEORG', u'pop': 38}}\n",
      "{u'state': u'NY', u'biggestCity': {u'name': u'BROOKLYN', u'pop': 2300504}, u'smallestCity': {u'name': u'RAQUETTE LAKE', u'pop': 0}}\n",
      "{u'state': u'ND', u'biggestCity': {u'name': u'GRAND FORKS', u'pop': 59527}, u'smallestCity': {u'name': u'TROTTERS', u'pop': 12}}\n",
      "{u'state': u'NJ', u'biggestCity': {u'name': u'NEWARK', u'pop': 275572}, u'smallestCity': {u'name': u'IMLAYSTOWN', u'pop': 17}}\n",
      "{u'state': u'WV', u'biggestCity': {u'name': u'HUNTINGTON', u'pop': 75343}, u'smallestCity': {u'name': u'MOUNT CARBON', u'pop': 0}}\n",
      "{u'state': u'AK', u'biggestCity': {u'name': u'ANCHORAGE', u'pop': 183987}, u'smallestCity': {u'name': u'GRAYLING', u'pop': 0}}\n",
      "{u'state': u'IA', u'biggestCity': {u'name': u'DES MOINES', u'pop': 148155}, u'smallestCity': {u'name': u'DOUDS', u'pop': 15}}\n",
      "{u'state': u'CT', u'biggestCity': {u'name': u'BRIDGEPORT', u'pop': 141638}, u'smallestCity': {u'name': u'EAST KILLINGLY', u'pop': 25}}\n",
      "{u'state': u'IL', u'biggestCity': {u'name': u'CHICAGO', u'pop': 2452177}, u'smallestCity': {u'name': u'ANCONA', u'pop': 38}}\n"
     ]
    }
   ],
   "source": [
    "mongo = MongoClient(mongo_server, 54329)\n",
    "\n",
    "col = mongo.mydata.zip\n",
    "\n",
    "pipelines = []\n",
    "pipelines = []\n",
    "pipelines.append({ '$group': { '_id': { 'state': \"$state\", 'city': \"$city\" }, 'pop': { '$sum': \"$pop\" }}})\n",
    "pipelines.append({ '$sort': { 'pop': 1 } })\n",
    "pipelines.append({ '$group' : {'_id' : \"$_id.state\", 'biggestCity':  { '$last': \"$_id.city\" }, 'biggestPop' : { '$last': \"$pop\" }, 'smallestCity': { '$first': \"$_id.city\" }, 'smallestPop':  { '$first': \"$pop\" }}})\n",
    "pipelines.append({ '$project' : { '_id' : 0, 'state': \"$_id\", \n",
    "                                 'biggestCity':\n",
    "                                 { 'name': \"$biggestCity\", \n",
    "                                  'pop': \"$biggestPop\" }, \n",
    "                                 'smallestCity': { 'name':\n",
    "                                                  \"$smallestCity\", 'pop': \"$smallestPop\" }}})\n",
    "\n",
    "result = col.aggregate(pipelines)\n",
    "\n",
    "for doc in result:\n",
    "    print doc\n"
   ]
  },
  {
   "cell_type": "markdown",
   "metadata": {},
   "source": [
    "* 연습문제) \n",
    " 0. 위의 예제에서 주별 1000만 이사의 인구를 가지는 주를 필터링 하는 예제를 aggregation을 쓰지않고 직접 python으로 구현해보세요.\n",
    " 1. import한 restaurant 데이터를 가지고 각 borough 마다 레스토랑이 몇 개있는지 계산하시오.\n",
    " 2. address의 zipcode별로 'Brazilian' 레스토랑이 몇개 있는지 계산하시오.\n",
    " 3. 평균평점이 가장 높은 레스토랑을 5개 추출하세요\n",
    " 4. cusine별로 평점이 가장 높은 레스토랑을 추출하세요"
   ]
  },
  {
   "cell_type": "markdown",
   "metadata": {},
   "source": [
    "* 2) import한 restaurant 데이터를 가지고 각 borough 마다 레스토랑이 몇 개있는지 계산하시오. (완)"
   ]
  },
  {
   "cell_type": "code",
   "execution_count": 125,
   "metadata": {},
   "outputs": [
    {
     "name": "stdout",
     "output_type": "stream",
     "text": [
      "{u'total': 51, u'_id': u'Missing'}\n",
      "{u'total': 969, u'_id': u'Staten Island'}\n",
      "{u'total': 6086, u'_id': u'Brooklyn'}\n",
      "{u'total': 2338, u'_id': u'Bronx'}\n",
      "{u'total': 5656, u'_id': u'Queens'}\n",
      "{u'total': 10259, u'_id': u'Manhattan'}\n"
     ]
    }
   ],
   "source": [
    "mongo = MongoClient (mongo_server, 54329)\n",
    "col = mongo.mydata.restaurant\n",
    "\n",
    "\n",
    "pipelines = []\n",
    "pipelines.append({'$group':{'_id':'$borough', 'total':{'$sum':1} }})\n",
    "\n",
    "result = col.aggregate(pipelines)\n",
    "\n",
    "for doc in result:\n",
    "    print doc"
   ]
  },
  {
   "cell_type": "markdown",
   "metadata": {},
   "source": [
    " * 3) address의 zipcode별로 'Brazilian' 레스토랑이 몇개 있는지 계산하시오 (와)"
   ]
  },
  {
   "cell_type": "code",
   "execution_count": 126,
   "metadata": {},
   "outputs": [
    {
     "name": "stdout",
     "output_type": "stream",
     "text": [
      "{u'no of Brazilian': 1, u'_id': {u'zipcode': u'11238'}}\n",
      "{u'no of Brazilian': 3, u'_id': {u'zipcode': u'11106'}}\n",
      "{u'no of Brazilian': 1, u'_id': {u'zipcode': u'10002'}}\n",
      "{u'no of Brazilian': 2, u'_id': {u'zipcode': u'10014'}}\n",
      "{u'no of Brazilian': 2, u'_id': {u'zipcode': u'11101'}}\n",
      "{u'no of Brazilian': 1, u'_id': {u'zipcode': u'11377'}}\n",
      "{u'no of Brazilian': 1, u'_id': {u'zipcode': u'10034'}}\n",
      "{u'no of Brazilian': 1, u'_id': {u'zipcode': u'11368'}}\n",
      "{u'no of Brazilian': 1, u'_id': {u'zipcode': u'10009'}}\n",
      "{u'no of Brazilian': 4, u'_id': {u'zipcode': u'10036'}}\n",
      "{u'no of Brazilian': 1, u'_id': {u'zipcode': u'10128'}}\n",
      "{u'no of Brazilian': 3, u'_id': {u'zipcode': u'10019'}}\n",
      "{u'no of Brazilian': 2, u'_id': {u'zipcode': u'10065'}}\n",
      "{u'no of Brazilian': 2, u'_id': {u'zipcode': u'11211'}}\n",
      "{u'no of Brazilian': 1, u'_id': {u'zipcode': u'11103'}}\n"
     ]
    }
   ],
   "source": [
    "#3\n",
    "mongo = MongoClient (mongo_server, 54329)\n",
    "col = mongo.mydata.restaurant\n",
    "\n",
    "\n",
    "pipelines = []\n",
    "pipelines.append({'$match':{\"cuisine\":'Brazilian'}})\n",
    "pipelines.append({'$group':{'_id':{'zipcode':'$address.zipcode'}, 'no of Brazilian':{'$sum':1}}})\n",
    "\n",
    "\n",
    "result = col.aggregate(pipelines)\n",
    "\n",
    "for doc in result:\n",
    "    print doc"
   ]
  },
  {
   "cell_type": "markdown",
   "metadata": {},
   "source": [
    "* 4) 평균평점이 가장 높은 레스토랑을 5개 추출하세요 (완)"
   ]
  },
  {
   "cell_type": "code",
   "execution_count": 155,
   "metadata": {
    "collapsed": true
   },
   "outputs": [
    {
     "name": "stdout",
     "output_type": "stream",
     "text": [
      "{u'_id': ObjectId('596efb666490e9138ab279eb'),\n",
      " u'address': {u'building': u'1068',\n",
      "              u'coord': [-73.958167, 40.681357],\n",
      "              u'street': u'Fulton Street',\n",
      "              u'zipcode': u'11238'},\n",
      " u'borough': u'Brooklyn',\n",
      " u'cuisine': u'Juice, Smoothies, Fruit Salads',\n",
      " u'grades': [{u'date': datetime.datetime(2015, 1, 20, 0, 0),\n",
      "              u'grade': u'Not Yet Graded',\n",
      "              u'score': 75}],\n",
      " u'name': u'Juice It Health Bar',\n",
      " u'restaurant_id': u'50015959'}\n",
      "\n",
      "{u'average': 75.0, u'_id': u'50015959', u'borough': u'Brooklyn', u'name': u'Juice It Health Bar'}\n",
      "{u'average': 73.0, u'_id': u'50017374', u'borough': u'Bronx', u'name': u'Golden Dragon Cuisine'}\n",
      "{u'average': 69.0, u'_id': u'50018457', u'borough': u'Brooklyn', u'name': u\"Chelsea'S Juice Factory\"}\n",
      "{u'average': 69.0, u'_id': u'50015245', u'borough': u'Bronx', u'name': u'Palombo Pastry Shop'}\n",
      "{u'average': 65.0, u'_id': u'41703965', u'borough': u'Manhattan', u'name': u'Go Go Curry'}\n"
     ]
    }
   ],
   "source": [
    "#4\n",
    "from pprint import pprint\n",
    "\n",
    "mongo = MongoClient (mongo_server, 54329)\n",
    "col = mongo.mydata.restaurant\n",
    "\n",
    "\n",
    "# 이건 그냥 1위 레스토랑의 세부 사항 출력---------------\n",
    "finds = col.find({\"name\" : 'Juice It Health Bar'})\n",
    "for doc in finds:\n",
    "    pprint (doc)\n",
    "    print \n",
    "# ------------------------------------------------------    \n",
    "    \n",
    "pipelines = []\n",
    "\n",
    "pipelines.append({'$project': {'_id':'$restaurant_id','name':'$name', \n",
    "                               'borough':'$borough',\n",
    "                               'average': {'$avg':\"$grades.score\"}}}) #각 레스토랑의 평균 구함\n",
    "pipelines.append({'$sort':{'average':-1}}) # 평균을 내림차순으로 정리 함\n",
    "pipelines.append({'$limit':5} )  # 5개까지\n",
    "\n",
    "\n",
    "result = col.aggregate(pipelines)\n",
    "\n",
    "\n",
    "for doc in result:\n",
    "    print doc"
   ]
  },
  {
   "cell_type": "markdown",
   "metadata": {},
   "source": [
    "*  5) cusine별로 평점이 가장 높은 레스토랑을 추출하세요"
   ]
  },
  {
   "cell_type": "code",
   "execution_count": 179,
   "metadata": {
    "scrolled": true
   },
   "outputs": [
    {
     "name": "stdout",
     "output_type": "stream",
     "text": [
      "{u'_id': {u'cuisine': u'Chilean'}, u'max_score': 6}\n",
      "{u'_id': {u'cuisine': u'Hawaiian'}, u'max_score': 41}\n",
      "{u'_id': {u'cuisine': u'Southwestern'}, u'max_score': 26}\n",
      "{u'_id': {u'cuisine': u'Hotdogs/Pretzels'}, u'max_score': 22}\n",
      "{u'_id': {u'cuisine': u'Australian'}, u'max_score': 38}\n",
      "{u'_id': {u'cuisine': u'Salads'}, u'max_score': 30}\n",
      "{u'_id': {u'cuisine': u'Czech'}, u'max_score': 26}\n",
      "{u'_id': {u'cuisine': u'Bangladeshi'}, u'max_score': 62}\n",
      "{u'_id': {u'cuisine': u'Pakistani'}, u'max_score': 49}\n",
      "{u'_id': {u'cuisine': u'Peruvian'}, u'max_score': 53}\n",
      "{u'_id': {u'cuisine': u'Soups & Sandwiches'}, u'max_score': 45}\n",
      "{u'_id': {u'cuisine': u'Nuts/Confectionary'}, u'max_score': 20}\n",
      "{u'_id': {u'cuisine': u'Caf\\xc3\\xa9/Coffee/Tea'}, u'max_score': 17}\n",
      "{u'_id': {u'cuisine': u'Vietnamese/Cambodian/Malaysia'}, u'max_score': 47}\n",
      "{u'_id': {u'cuisine': u'Afghan'}, u'max_score': 38}\n",
      "{u'_id': {u'cuisine': u'Brazilian'}, u'max_score': 51}\n",
      "{u'_id': {u'cuisine': u'Juice, Smoothies, Fruit Salads'}, u'max_score': 75}\n",
      "{u'_id': {u'cuisine': u'Filipino'}, u'max_score': 59}\n",
      "{u'_id': {u'cuisine': u'Tapas'}, u'max_score': 36}\n",
      "{u'_id': {u'cuisine': u'Chinese/Japanese'}, u'max_score': 65}\n",
      "{u'_id': {u'cuisine': u'Fruits/Vegetables'}, u'max_score': 18}\n",
      "{u'_id': {u'cuisine': u'Creole'}, u'max_score': 60}\n",
      "{u'_id': {u'cuisine': u'Indonesian'}, u'max_score': 29}\n",
      "{u'_id': {u'cuisine': u'Portuguese'}, u'max_score': 30}\n",
      "{u'_id': {u'cuisine': u'Sandwiches'}, u'max_score': 48}\n",
      "{u'_id': {u'cuisine': u'Other'}, u'max_score': 60}\n",
      "{u'_id': {u'cuisine': u'Egyptian'}, u'max_score': 24}\n",
      "{u'_id': {u'cuisine': u'Barbecue'}, u'max_score': 46}\n",
      "{u'_id': {u'cuisine': u'Moroccan'}, u'max_score': 61}\n",
      "{u'_id': {u'cuisine': u'Vegetarian'}, u'max_score': 54}\n",
      "{u'_id': {u'cuisine': u'Ethiopian'}, u'max_score': 25}\n",
      "{u'_id': {u'cuisine': u'Californian'}, u'max_score': 12}\n",
      "{u'_id': {u'cuisine': u'Latin (Cuban, Dominican, Puerto Rican, South & Central American)'}, u'max_score': 82}\n",
      "{u'_id': {u'cuisine': u'Italian'}, u'max_score': 81}\n",
      "{u'_id': {u'cuisine': u'Sandwiches/Salads/Mixed Buffet'}, u'max_score': 60}\n",
      "{u'_id': {u'cuisine': u'Ice Cream, Gelato, Yogurt, Ices'}, u'max_score': 42}\n",
      "{u'_id': {u'cuisine': u'Korean'}, u'max_score': 78}\n",
      "{u'_id': {u'cuisine': u'Pizza'}, u'max_score': 79}\n",
      "{u'_id': {u'cuisine': u'Bagels/Pretzels'}, u'max_score': 60}\n",
      "{u'_id': {u'cuisine': u'Cajun'}, u'max_score': 18}\n",
      "{u'_id': {u'cuisine': u'African'}, u'max_score': 78}\n",
      "{u'_id': {u'cuisine': u'German'}, u'max_score': 48}\n",
      "{u'_id': {u'cuisine': u'Soups'}, u'max_score': 25}\n",
      "{u'_id': {u'cuisine': u'Donuts'}, u'max_score': 63}\n",
      "{u'_id': {u'cuisine': u'Caribbean'}, u'max_score': 68}\n",
      "{u'_id': {u'cuisine': u'American'}, u'max_score': 131}\n",
      "{u'_id': {u'cuisine': u'Polish'}, u'max_score': 54}\n",
      "{u'_id': {u'cuisine': u'Bakery'}, u'max_score': 77}\n",
      "{u'_id': {u'cuisine': u'Seafood'}, u'max_score': 77}\n",
      "{u'_id': {u'cuisine': u'Jewish/Kosher'}, u'max_score': 70}\n",
      "{u'_id': {u'cuisine': u'Steak'}, u'max_score': 49}\n",
      "{u'_id': {u'cuisine': u'Irish'}, u'max_score': 66}\n",
      "{u'_id': {u'cuisine': u'Spanish'}, u'max_score': 66}\n",
      "{u'_id': {u'cuisine': u'Turkish'}, u'max_score': 53}\n",
      "{u'_id': {u'cuisine': u'Delicatessen'}, u'max_score': 65}\n",
      "{u'_id': {u'cuisine': u'Scandinavian'}, u'max_score': 32}\n",
      "{u'_id': {u'cuisine': u'Hamburgers'}, u'max_score': 52}\n",
      "{u'_id': {u'cuisine': u'Polynesian'}, u'max_score': 22}\n",
      "{u'_id': {u'cuisine': u'Chinese'}, u'max_score': 86}\n",
      "{u'_id': {u'cuisine': u'Caf\\xe9/Coffee/Tea'}, u'max_score': 61}\n",
      "{u'_id': {u'cuisine': u'Chinese/Cuban'}, u'max_score': 58}\n",
      "{u'_id': {u'cuisine': u'Continental'}, u'max_score': 67}\n",
      "{u'_id': {u'cuisine': u'Pancakes/Waffles'}, u'max_score': 45}\n",
      "{u'_id': {u'cuisine': u'Iranian'}, u'max_score': 36}\n",
      "{u'_id': {u'cuisine': u'Chicken'}, u'max_score': 51}\n",
      "{u'_id': {u'cuisine': u'Pizza/Italian'}, u'max_score': 98}\n",
      "{u'_id': {u'cuisine': u'Greek'}, u'max_score': 39}\n",
      "{u'_id': {u'cuisine': u'Japanese'}, u'max_score': 76}\n",
      "{u'_id': {u'cuisine': u'French'}, u'max_score': 67}\n",
      "{u'_id': {u'cuisine': u'Mexican'}, u'max_score': 73}\n",
      "{u'_id': {u'cuisine': u'Eastern European'}, u'max_score': 50}\n",
      "{u'_id': {u'cuisine': u'Tex-Mex'}, u'max_score': 49}\n",
      "{u'_id': {u'cuisine': u'Indian'}, u'max_score': 98}\n",
      "{u'_id': {u'cuisine': u'English'}, u'max_score': 43}\n",
      "{u'_id': {u'cuisine': u'Armenian'}, u'max_score': 37}\n",
      "{u'_id': {u'cuisine': u'Soul Food'}, u'max_score': 38}\n",
      "{u'_id': {u'cuisine': u'Thai'}, u'max_score': 84}\n",
      "{u'_id': {u'cuisine': u'Hotdogs'}, u'max_score': 27}\n",
      "{u'_id': {u'cuisine': u'Mediterranean'}, u'max_score': 53}\n",
      "{u'_id': {u'cuisine': u'Bottled beverages, including water, sodas, juices, etc.'}, u'max_score': 52}\n",
      "{u'_id': {u'cuisine': u'Creole/Cajun'}, u'max_score': 11}\n",
      "{u'_id': {u'cuisine': u'Not Listed/Not Applicable'}, u'max_score': 22}\n",
      "{u'_id': {u'cuisine': u'Russian'}, u'max_score': 51}\n",
      "{u'_id': {u'cuisine': u'Middle Eastern'}, u'max_score': 71}\n",
      "{u'_id': {u'cuisine': u'Asian'}, u'max_score': 69}\n"
     ]
    }
   ],
   "source": [
    "from pprint import pprint\n",
    "#3\n",
    "mongo = MongoClient (mongo_server, 54329)\n",
    "col = mongo.mydata.restaurant\n",
    "\n",
    "result = col.find()\n",
    "\n",
    "pipelines = []\n",
    "\n",
    "\n",
    "\n",
    "pipelines.append({'$project': {'_id':'$restaurant_id','name':'$name', \n",
    "                               'borough':'$borough','cuisine':'$cuisine',\n",
    "                               'score': {'$max':\"$grades.score\"}}}) #각 레스토랑의 max값\n",
    "pipelines.append({'$group':{'_id':{'cuisine':'$cuisine'}, 'max_score': {'$max':'$score'}\n",
    "                           }}) # cuisine과 name, restaurant id로 그룹화 -> score의 최대값\n",
    "pipelines.append({'$sort':{'cuisine':1}})\n",
    "\n",
    "#레스토랑 이름은 어떻게 빼야 하지???\n",
    "\n",
    "\n",
    "result = col.aggregate(pipelines)\n",
    "\n",
    "for doc in result:\n",
    "    print doc"
   ]
  },
  {
   "cell_type": "code",
   "execution_count": null,
   "metadata": {
    "collapsed": true
   },
   "outputs": [],
   "source": []
  },
  {
   "cell_type": "code",
   "execution_count": null,
   "metadata": {
    "collapsed": true
   },
   "outputs": [],
   "source": []
  },
  {
   "cell_type": "code",
   "execution_count": null,
   "metadata": {
    "collapsed": true
   },
   "outputs": [],
   "source": []
  },
  {
   "cell_type": "code",
   "execution_count": null,
   "metadata": {
    "collapsed": true
   },
   "outputs": [],
   "source": []
  },
  {
   "cell_type": "code",
   "execution_count": null,
   "metadata": {
    "collapsed": true
   },
   "outputs": [],
   "source": []
  },
  {
   "cell_type": "code",
   "execution_count": null,
   "metadata": {
    "collapsed": true
   },
   "outputs": [],
   "source": []
  },
  {
   "cell_type": "code",
   "execution_count": null,
   "metadata": {
    "collapsed": true
   },
   "outputs": [],
   "source": []
  },
  {
   "cell_type": "code",
   "execution_count": null,
   "metadata": {
    "collapsed": true
   },
   "outputs": [],
   "source": []
  },
  {
   "cell_type": "code",
   "execution_count": null,
   "metadata": {
    "collapsed": true
   },
   "outputs": [],
   "source": []
  },
  {
   "cell_type": "code",
   "execution_count": null,
   "metadata": {
    "collapsed": true
   },
   "outputs": [],
   "source": []
  },
  {
   "cell_type": "code",
   "execution_count": null,
   "metadata": {
    "collapsed": true
   },
   "outputs": [],
   "source": []
  },
  {
   "cell_type": "code",
   "execution_count": null,
   "metadata": {
    "collapsed": true
   },
   "outputs": [],
   "source": []
  },
  {
   "cell_type": "code",
   "execution_count": null,
   "metadata": {
    "collapsed": true
   },
   "outputs": [],
   "source": []
  },
  {
   "cell_type": "code",
   "execution_count": null,
   "metadata": {
    "collapsed": true
   },
   "outputs": [],
   "source": []
  },
  {
   "cell_type": "code",
   "execution_count": null,
   "metadata": {
    "collapsed": true
   },
   "outputs": [],
   "source": []
  },
  {
   "cell_type": "code",
   "execution_count": null,
   "metadata": {
    "collapsed": true
   },
   "outputs": [],
   "source": []
  },
  {
   "cell_type": "code",
   "execution_count": null,
   "metadata": {
    "collapsed": true
   },
   "outputs": [],
   "source": []
  },
  {
   "cell_type": "code",
   "execution_count": null,
   "metadata": {
    "collapsed": true
   },
   "outputs": [],
   "source": []
  },
  {
   "cell_type": "code",
   "execution_count": null,
   "metadata": {
    "collapsed": true
   },
   "outputs": [],
   "source": []
  },
  {
   "cell_type": "code",
   "execution_count": null,
   "metadata": {
    "collapsed": true
   },
   "outputs": [],
   "source": []
  },
  {
   "cell_type": "code",
   "execution_count": null,
   "metadata": {
    "collapsed": true
   },
   "outputs": [],
   "source": []
  },
  {
   "cell_type": "code",
   "execution_count": null,
   "metadata": {
    "collapsed": true
   },
   "outputs": [],
   "source": []
  },
  {
   "cell_type": "code",
   "execution_count": null,
   "metadata": {
    "collapsed": true
   },
   "outputs": [],
   "source": []
  },
  {
   "cell_type": "code",
   "execution_count": null,
   "metadata": {
    "collapsed": true
   },
   "outputs": [],
   "source": []
  },
  {
   "cell_type": "code",
   "execution_count": null,
   "metadata": {
    "collapsed": true
   },
   "outputs": [],
   "source": []
  },
  {
   "cell_type": "code",
   "execution_count": null,
   "metadata": {
    "collapsed": true
   },
   "outputs": [],
   "source": []
  },
  {
   "cell_type": "code",
   "execution_count": null,
   "metadata": {
    "collapsed": true
   },
   "outputs": [],
   "source": []
  },
  {
   "cell_type": "code",
   "execution_count": null,
   "metadata": {
    "collapsed": true
   },
   "outputs": [],
   "source": []
  },
  {
   "cell_type": "code",
   "execution_count": null,
   "metadata": {
    "collapsed": true
   },
   "outputs": [],
   "source": []
  },
  {
   "cell_type": "code",
   "execution_count": null,
   "metadata": {
    "collapsed": true
   },
   "outputs": [],
   "source": []
  },
  {
   "cell_type": "code",
   "execution_count": null,
   "metadata": {
    "collapsed": true
   },
   "outputs": [],
   "source": []
  },
  {
   "cell_type": "code",
   "execution_count": null,
   "metadata": {
    "collapsed": true
   },
   "outputs": [],
   "source": []
  },
  {
   "cell_type": "code",
   "execution_count": null,
   "metadata": {
    "collapsed": true
   },
   "outputs": [],
   "source": []
  },
  {
   "cell_type": "code",
   "execution_count": null,
   "metadata": {
    "collapsed": true
   },
   "outputs": [],
   "source": []
  },
  {
   "cell_type": "code",
   "execution_count": null,
   "metadata": {
    "collapsed": true
   },
   "outputs": [],
   "source": []
  },
  {
   "cell_type": "code",
   "execution_count": null,
   "metadata": {
    "collapsed": true
   },
   "outputs": [],
   "source": []
  },
  {
   "cell_type": "code",
   "execution_count": null,
   "metadata": {
    "collapsed": true
   },
   "outputs": [],
   "source": []
  },
  {
   "cell_type": "code",
   "execution_count": null,
   "metadata": {
    "collapsed": true
   },
   "outputs": [],
   "source": []
  },
  {
   "cell_type": "code",
   "execution_count": null,
   "metadata": {
    "collapsed": true
   },
   "outputs": [],
   "source": []
  },
  {
   "cell_type": "code",
   "execution_count": null,
   "metadata": {
    "collapsed": true
   },
   "outputs": [],
   "source": []
  },
  {
   "cell_type": "code",
   "execution_count": null,
   "metadata": {
    "collapsed": true
   },
   "outputs": [],
   "source": []
  },
  {
   "cell_type": "code",
   "execution_count": null,
   "metadata": {
    "collapsed": true
   },
   "outputs": [],
   "source": []
  },
  {
   "cell_type": "code",
   "execution_count": null,
   "metadata": {
    "collapsed": true
   },
   "outputs": [],
   "source": []
  },
  {
   "cell_type": "code",
   "execution_count": null,
   "metadata": {
    "collapsed": true
   },
   "outputs": [],
   "source": []
  },
  {
   "cell_type": "code",
   "execution_count": null,
   "metadata": {
    "collapsed": true
   },
   "outputs": [],
   "source": []
  },
  {
   "cell_type": "code",
   "execution_count": null,
   "metadata": {
    "collapsed": true
   },
   "outputs": [],
   "source": []
  },
  {
   "cell_type": "code",
   "execution_count": null,
   "metadata": {
    "collapsed": true
   },
   "outputs": [],
   "source": []
  },
  {
   "cell_type": "code",
   "execution_count": null,
   "metadata": {
    "collapsed": true
   },
   "outputs": [],
   "source": []
  },
  {
   "cell_type": "code",
   "execution_count": null,
   "metadata": {
    "collapsed": true
   },
   "outputs": [],
   "source": []
  },
  {
   "cell_type": "code",
   "execution_count": null,
   "metadata": {
    "collapsed": true
   },
   "outputs": [],
   "source": []
  },
  {
   "cell_type": "code",
   "execution_count": null,
   "metadata": {
    "collapsed": true
   },
   "outputs": [],
   "source": []
  },
  {
   "cell_type": "code",
   "execution_count": null,
   "metadata": {
    "collapsed": true
   },
   "outputs": [],
   "source": []
  },
  {
   "cell_type": "code",
   "execution_count": null,
   "metadata": {
    "collapsed": true
   },
   "outputs": [],
   "source": []
  },
  {
   "cell_type": "code",
   "execution_count": null,
   "metadata": {
    "collapsed": true
   },
   "outputs": [],
   "source": []
  },
  {
   "cell_type": "code",
   "execution_count": null,
   "metadata": {
    "collapsed": true
   },
   "outputs": [],
   "source": []
  },
  {
   "cell_type": "code",
   "execution_count": null,
   "metadata": {
    "collapsed": true
   },
   "outputs": [],
   "source": []
  },
  {
   "cell_type": "code",
   "execution_count": null,
   "metadata": {
    "collapsed": true
   },
   "outputs": [],
   "source": []
  },
  {
   "cell_type": "code",
   "execution_count": null,
   "metadata": {
    "collapsed": true
   },
   "outputs": [],
   "source": []
  },
  {
   "cell_type": "code",
   "execution_count": null,
   "metadata": {
    "collapsed": true
   },
   "outputs": [],
   "source": []
  },
  {
   "cell_type": "code",
   "execution_count": null,
   "metadata": {
    "collapsed": true
   },
   "outputs": [],
   "source": []
  },
  {
   "cell_type": "code",
   "execution_count": null,
   "metadata": {
    "collapsed": true
   },
   "outputs": [],
   "source": []
  },
  {
   "cell_type": "code",
   "execution_count": null,
   "metadata": {
    "collapsed": true
   },
   "outputs": [],
   "source": []
  },
  {
   "cell_type": "code",
   "execution_count": null,
   "metadata": {
    "collapsed": true
   },
   "outputs": [],
   "source": []
  },
  {
   "cell_type": "code",
   "execution_count": null,
   "metadata": {
    "collapsed": true
   },
   "outputs": [],
   "source": []
  },
  {
   "cell_type": "code",
   "execution_count": null,
   "metadata": {
    "collapsed": true
   },
   "outputs": [],
   "source": []
  },
  {
   "cell_type": "code",
   "execution_count": null,
   "metadata": {
    "collapsed": true
   },
   "outputs": [],
   "source": []
  },
  {
   "cell_type": "code",
   "execution_count": null,
   "metadata": {
    "collapsed": true
   },
   "outputs": [],
   "source": []
  },
  {
   "cell_type": "code",
   "execution_count": null,
   "metadata": {
    "collapsed": true
   },
   "outputs": [],
   "source": []
  },
  {
   "cell_type": "code",
   "execution_count": null,
   "metadata": {
    "collapsed": true
   },
   "outputs": [],
   "source": []
  },
  {
   "cell_type": "code",
   "execution_count": null,
   "metadata": {
    "collapsed": true
   },
   "outputs": [],
   "source": []
  },
  {
   "cell_type": "code",
   "execution_count": null,
   "metadata": {
    "collapsed": true
   },
   "outputs": [],
   "source": []
  },
  {
   "cell_type": "code",
   "execution_count": null,
   "metadata": {
    "collapsed": true
   },
   "outputs": [],
   "source": []
  },
  {
   "cell_type": "code",
   "execution_count": null,
   "metadata": {
    "collapsed": true
   },
   "outputs": [],
   "source": []
  },
  {
   "cell_type": "code",
   "execution_count": null,
   "metadata": {
    "collapsed": true
   },
   "outputs": [],
   "source": []
  },
  {
   "cell_type": "code",
   "execution_count": null,
   "metadata": {
    "collapsed": true
   },
   "outputs": [],
   "source": []
  },
  {
   "cell_type": "code",
   "execution_count": null,
   "metadata": {
    "collapsed": true
   },
   "outputs": [],
   "source": []
  },
  {
   "cell_type": "code",
   "execution_count": null,
   "metadata": {
    "collapsed": true
   },
   "outputs": [],
   "source": []
  },
  {
   "cell_type": "code",
   "execution_count": null,
   "metadata": {
    "collapsed": true
   },
   "outputs": [],
   "source": []
  },
  {
   "cell_type": "code",
   "execution_count": null,
   "metadata": {
    "collapsed": true
   },
   "outputs": [],
   "source": []
  },
  {
   "cell_type": "code",
   "execution_count": null,
   "metadata": {
    "collapsed": true
   },
   "outputs": [],
   "source": []
  },
  {
   "cell_type": "code",
   "execution_count": null,
   "metadata": {
    "collapsed": true
   },
   "outputs": [],
   "source": []
  },
  {
   "cell_type": "code",
   "execution_count": null,
   "metadata": {
    "collapsed": true
   },
   "outputs": [],
   "source": []
  },
  {
   "cell_type": "code",
   "execution_count": null,
   "metadata": {
    "collapsed": true
   },
   "outputs": [],
   "source": []
  },
  {
   "cell_type": "code",
   "execution_count": null,
   "metadata": {
    "collapsed": true
   },
   "outputs": [],
   "source": []
  },
  {
   "cell_type": "code",
   "execution_count": null,
   "metadata": {
    "collapsed": true
   },
   "outputs": [],
   "source": []
  },
  {
   "cell_type": "code",
   "execution_count": null,
   "metadata": {
    "collapsed": true
   },
   "outputs": [],
   "source": []
  },
  {
   "cell_type": "code",
   "execution_count": null,
   "metadata": {
    "collapsed": true
   },
   "outputs": [],
   "source": []
  },
  {
   "cell_type": "code",
   "execution_count": null,
   "metadata": {
    "collapsed": true
   },
   "outputs": [],
   "source": []
  },
  {
   "cell_type": "code",
   "execution_count": null,
   "metadata": {
    "collapsed": true
   },
   "outputs": [],
   "source": []
  },
  {
   "cell_type": "code",
   "execution_count": null,
   "metadata": {
    "collapsed": true
   },
   "outputs": [],
   "source": []
  },
  {
   "cell_type": "code",
   "execution_count": null,
   "metadata": {
    "collapsed": true
   },
   "outputs": [],
   "source": []
  },
  {
   "cell_type": "code",
   "execution_count": null,
   "metadata": {
    "collapsed": true
   },
   "outputs": [],
   "source": []
  },
  {
   "cell_type": "code",
   "execution_count": null,
   "metadata": {
    "collapsed": true
   },
   "outputs": [],
   "source": []
  },
  {
   "cell_type": "code",
   "execution_count": null,
   "metadata": {
    "collapsed": true
   },
   "outputs": [],
   "source": []
  },
  {
   "cell_type": "code",
   "execution_count": null,
   "metadata": {
    "collapsed": true
   },
   "outputs": [],
   "source": []
  },
  {
   "cell_type": "code",
   "execution_count": null,
   "metadata": {
    "collapsed": true
   },
   "outputs": [],
   "source": []
  },
  {
   "cell_type": "code",
   "execution_count": null,
   "metadata": {
    "collapsed": true
   },
   "outputs": [],
   "source": []
  },
  {
   "cell_type": "code",
   "execution_count": null,
   "metadata": {
    "collapsed": true
   },
   "outputs": [],
   "source": []
  },
  {
   "cell_type": "code",
   "execution_count": null,
   "metadata": {
    "collapsed": true
   },
   "outputs": [],
   "source": []
  },
  {
   "cell_type": "code",
   "execution_count": null,
   "metadata": {
    "collapsed": true
   },
   "outputs": [],
   "source": []
  },
  {
   "cell_type": "code",
   "execution_count": null,
   "metadata": {
    "collapsed": true
   },
   "outputs": [],
   "source": []
  },
  {
   "cell_type": "code",
   "execution_count": null,
   "metadata": {
    "collapsed": true
   },
   "outputs": [],
   "source": []
  },
  {
   "cell_type": "code",
   "execution_count": null,
   "metadata": {
    "collapsed": true
   },
   "outputs": [],
   "source": []
  },
  {
   "cell_type": "code",
   "execution_count": null,
   "metadata": {
    "collapsed": true
   },
   "outputs": [],
   "source": []
  },
  {
   "cell_type": "code",
   "execution_count": null,
   "metadata": {
    "collapsed": true
   },
   "outputs": [],
   "source": []
  },
  {
   "cell_type": "code",
   "execution_count": null,
   "metadata": {
    "collapsed": true
   },
   "outputs": [],
   "source": []
  },
  {
   "cell_type": "code",
   "execution_count": null,
   "metadata": {
    "collapsed": true
   },
   "outputs": [],
   "source": []
  },
  {
   "cell_type": "code",
   "execution_count": null,
   "metadata": {
    "collapsed": true
   },
   "outputs": [],
   "source": []
  },
  {
   "cell_type": "code",
   "execution_count": null,
   "metadata": {
    "collapsed": true
   },
   "outputs": [],
   "source": []
  },
  {
   "cell_type": "code",
   "execution_count": null,
   "metadata": {
    "collapsed": true
   },
   "outputs": [],
   "source": []
  },
  {
   "cell_type": "code",
   "execution_count": null,
   "metadata": {
    "collapsed": true
   },
   "outputs": [],
   "source": []
  },
  {
   "cell_type": "code",
   "execution_count": null,
   "metadata": {
    "collapsed": true
   },
   "outputs": [],
   "source": []
  },
  {
   "cell_type": "code",
   "execution_count": null,
   "metadata": {
    "collapsed": true
   },
   "outputs": [],
   "source": []
  },
  {
   "cell_type": "code",
   "execution_count": null,
   "metadata": {
    "collapsed": true
   },
   "outputs": [],
   "source": []
  },
  {
   "cell_type": "code",
   "execution_count": null,
   "metadata": {
    "collapsed": true
   },
   "outputs": [],
   "source": []
  },
  {
   "cell_type": "code",
   "execution_count": null,
   "metadata": {
    "collapsed": true
   },
   "outputs": [],
   "source": []
  },
  {
   "cell_type": "code",
   "execution_count": null,
   "metadata": {
    "collapsed": true
   },
   "outputs": [],
   "source": []
  },
  {
   "cell_type": "code",
   "execution_count": null,
   "metadata": {
    "collapsed": true
   },
   "outputs": [],
   "source": []
  },
  {
   "cell_type": "code",
   "execution_count": null,
   "metadata": {
    "collapsed": true
   },
   "outputs": [],
   "source": []
  },
  {
   "cell_type": "code",
   "execution_count": null,
   "metadata": {
    "collapsed": true
   },
   "outputs": [],
   "source": []
  },
  {
   "cell_type": "code",
   "execution_count": null,
   "metadata": {
    "collapsed": true
   },
   "outputs": [],
   "source": []
  },
  {
   "cell_type": "code",
   "execution_count": null,
   "metadata": {
    "collapsed": true
   },
   "outputs": [],
   "source": []
  },
  {
   "cell_type": "code",
   "execution_count": null,
   "metadata": {
    "collapsed": true
   },
   "outputs": [],
   "source": []
  },
  {
   "cell_type": "code",
   "execution_count": null,
   "metadata": {
    "collapsed": true
   },
   "outputs": [],
   "source": []
  },
  {
   "cell_type": "code",
   "execution_count": null,
   "metadata": {
    "collapsed": true
   },
   "outputs": [],
   "source": []
  },
  {
   "cell_type": "code",
   "execution_count": null,
   "metadata": {
    "collapsed": true
   },
   "outputs": [],
   "source": []
  },
  {
   "cell_type": "code",
   "execution_count": null,
   "metadata": {
    "collapsed": true
   },
   "outputs": [],
   "source": []
  },
  {
   "cell_type": "code",
   "execution_count": null,
   "metadata": {
    "collapsed": true
   },
   "outputs": [],
   "source": []
  },
  {
   "cell_type": "code",
   "execution_count": null,
   "metadata": {
    "collapsed": true
   },
   "outputs": [],
   "source": []
  },
  {
   "cell_type": "code",
   "execution_count": null,
   "metadata": {
    "collapsed": true
   },
   "outputs": [],
   "source": []
  },
  {
   "cell_type": "code",
   "execution_count": null,
   "metadata": {
    "collapsed": true
   },
   "outputs": [],
   "source": []
  },
  {
   "cell_type": "code",
   "execution_count": null,
   "metadata": {
    "collapsed": true
   },
   "outputs": [],
   "source": []
  },
  {
   "cell_type": "code",
   "execution_count": null,
   "metadata": {
    "collapsed": true
   },
   "outputs": [],
   "source": []
  },
  {
   "cell_type": "code",
   "execution_count": null,
   "metadata": {
    "collapsed": true
   },
   "outputs": [],
   "source": []
  },
  {
   "cell_type": "code",
   "execution_count": null,
   "metadata": {
    "collapsed": true
   },
   "outputs": [],
   "source": []
  },
  {
   "cell_type": "code",
   "execution_count": null,
   "metadata": {
    "collapsed": true
   },
   "outputs": [],
   "source": []
  },
  {
   "cell_type": "code",
   "execution_count": null,
   "metadata": {
    "collapsed": true
   },
   "outputs": [],
   "source": []
  },
  {
   "cell_type": "code",
   "execution_count": null,
   "metadata": {
    "collapsed": true
   },
   "outputs": [],
   "source": []
  },
  {
   "cell_type": "code",
   "execution_count": null,
   "metadata": {
    "collapsed": true
   },
   "outputs": [],
   "source": []
  },
  {
   "cell_type": "code",
   "execution_count": null,
   "metadata": {
    "collapsed": true
   },
   "outputs": [],
   "source": []
  },
  {
   "cell_type": "code",
   "execution_count": null,
   "metadata": {
    "collapsed": true
   },
   "outputs": [],
   "source": []
  },
  {
   "cell_type": "code",
   "execution_count": null,
   "metadata": {
    "collapsed": true
   },
   "outputs": [],
   "source": []
  },
  {
   "cell_type": "code",
   "execution_count": null,
   "metadata": {
    "collapsed": true
   },
   "outputs": [],
   "source": []
  },
  {
   "cell_type": "code",
   "execution_count": null,
   "metadata": {
    "collapsed": true
   },
   "outputs": [],
   "source": []
  },
  {
   "cell_type": "code",
   "execution_count": null,
   "metadata": {
    "collapsed": true
   },
   "outputs": [],
   "source": []
  },
  {
   "cell_type": "code",
   "execution_count": null,
   "metadata": {
    "collapsed": true
   },
   "outputs": [],
   "source": []
  },
  {
   "cell_type": "code",
   "execution_count": null,
   "metadata": {
    "collapsed": true
   },
   "outputs": [],
   "source": []
  },
  {
   "cell_type": "code",
   "execution_count": null,
   "metadata": {
    "collapsed": true
   },
   "outputs": [],
   "source": []
  },
  {
   "cell_type": "code",
   "execution_count": null,
   "metadata": {
    "collapsed": true
   },
   "outputs": [],
   "source": []
  },
  {
   "cell_type": "code",
   "execution_count": null,
   "metadata": {
    "collapsed": true
   },
   "outputs": [],
   "source": []
  },
  {
   "cell_type": "code",
   "execution_count": null,
   "metadata": {
    "collapsed": true
   },
   "outputs": [],
   "source": []
  },
  {
   "cell_type": "code",
   "execution_count": null,
   "metadata": {
    "collapsed": true
   },
   "outputs": [],
   "source": []
  },
  {
   "cell_type": "code",
   "execution_count": null,
   "metadata": {
    "collapsed": true
   },
   "outputs": [],
   "source": []
  },
  {
   "cell_type": "code",
   "execution_count": null,
   "metadata": {
    "collapsed": true
   },
   "outputs": [],
   "source": []
  },
  {
   "cell_type": "code",
   "execution_count": null,
   "metadata": {
    "collapsed": true
   },
   "outputs": [],
   "source": []
  },
  {
   "cell_type": "code",
   "execution_count": null,
   "metadata": {
    "collapsed": true
   },
   "outputs": [],
   "source": []
  },
  {
   "cell_type": "code",
   "execution_count": null,
   "metadata": {
    "collapsed": true
   },
   "outputs": [],
   "source": []
  },
  {
   "cell_type": "code",
   "execution_count": null,
   "metadata": {
    "collapsed": true
   },
   "outputs": [],
   "source": []
  },
  {
   "cell_type": "code",
   "execution_count": null,
   "metadata": {
    "collapsed": true
   },
   "outputs": [],
   "source": []
  },
  {
   "cell_type": "code",
   "execution_count": null,
   "metadata": {
    "collapsed": true
   },
   "outputs": [],
   "source": []
  },
  {
   "cell_type": "code",
   "execution_count": null,
   "metadata": {
    "collapsed": true
   },
   "outputs": [],
   "source": []
  },
  {
   "cell_type": "code",
   "execution_count": null,
   "metadata": {
    "collapsed": true
   },
   "outputs": [],
   "source": []
  },
  {
   "cell_type": "code",
   "execution_count": null,
   "metadata": {
    "collapsed": true
   },
   "outputs": [],
   "source": []
  },
  {
   "cell_type": "code",
   "execution_count": null,
   "metadata": {
    "collapsed": true
   },
   "outputs": [],
   "source": []
  },
  {
   "cell_type": "code",
   "execution_count": null,
   "metadata": {
    "collapsed": true
   },
   "outputs": [],
   "source": []
  },
  {
   "cell_type": "code",
   "execution_count": null,
   "metadata": {
    "collapsed": true
   },
   "outputs": [],
   "source": []
  },
  {
   "cell_type": "code",
   "execution_count": null,
   "metadata": {
    "collapsed": true
   },
   "outputs": [],
   "source": []
  }
 ],
 "metadata": {
  "kernelspec": {
   "display_name": "Python 2",
   "language": "python",
   "name": "python2"
  },
  "language_info": {
   "codemirror_mode": {
    "name": "ipython",
    "version": 2
   },
   "file_extension": ".py",
   "mimetype": "text/x-python",
   "name": "python",
   "nbconvert_exporter": "python",
   "pygments_lexer": "ipython2",
   "version": "2.7.13"
  }
 },
 "nbformat": 4,
 "nbformat_minor": 2
}

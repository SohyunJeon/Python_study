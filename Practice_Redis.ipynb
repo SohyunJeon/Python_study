{
 "cells": [
  {
   "cell_type": "code",
   "execution_count": 1,
   "metadata": {
    "collapsed": true
   },
   "outputs": [],
   "source": [
    "import pickle"
   ]
  },
  {
   "cell_type": "code",
   "execution_count": 2,
   "metadata": {
    "collapsed": true
   },
   "outputs": [],
   "source": [
    "class Person(object):\n",
    "    def __init__(self, data):\n",
    "        self.data = data\n",
    "        \n",
    "    def print_data(self):\n",
    "        print self.data\n",
    "        \n",
    "#객체 생성"
   ]
  },
  {
   "cell_type": "code",
   "execution_count": 4,
   "metadata": {},
   "outputs": [
    {
     "name": "stdout",
     "output_type": "stream",
     "text": [
      "ccopy_reg\n",
      "_reconstructor\n",
      "p0\n",
      "(c__main__\n",
      "Person\n",
      "p1\n",
      "c__builtin__\n",
      "object\n",
      "p2\n",
      "Ntp3\n",
      "Rp4\n",
      "(dp5\n",
      "S'data'\n",
      "p6\n",
      "I100\n",
      "sb.\n"
     ]
    }
   ],
   "source": [
    "p1 = Person(100)\n",
    "\n",
    "dumped = pickle.dumps(p1) # 객체를 파일에 저장\n",
    "print dumped\n"
   ]
  },
  {
   "cell_type": "code",
   "execution_count": 5,
   "metadata": {},
   "outputs": [
    {
     "name": "stdout",
     "output_type": "stream",
     "text": [
      "100\n"
     ]
    }
   ],
   "source": [
    "p2 = pickle.loads(dumped) # 파일에 저장된 객체를 로드\n",
    "\n",
    "print p2.data"
   ]
  },
  {
   "cell_type": "code",
   "execution_count": 6,
   "metadata": {
    "collapsed": true
   },
   "outputs": [],
   "source": [
    "persons = {'sherry': 1, 'bob':2, 'cathy':3}\n",
    "\n",
    "pickle.dump(persons, open('save', 'wb'))\n",
    "#open:파일을 여는 것\n",
    "# 이름이 단수면 파일 / 복수면 문자열 \n",
    "# 객체를 디비에 쓰거나 네트워크로 보낼 수 있게\n"
   ]
  },
  {
   "cell_type": "code",
   "execution_count": 7,
   "metadata": {},
   "outputs": [
    {
     "name": "stdout",
     "output_type": "stream",
     "text": [
      "{'cathy': 3, 'sherry': 1, 'bob': 2}\n"
     ]
    }
   ],
   "source": [
    "p2 = pickle.load(open('save', 'rb'))\n",
    "print p2 # 파일에서 객체를 읽어옴"
   ]
  },
  {
   "cell_type": "code",
   "execution_count": 10,
   "metadata": {},
   "outputs": [
    {
     "name": "stdout",
     "output_type": "stream",
     "text": [
      "(dp0\n",
      "S'cathy'\n",
      "p1\n",
      "I3\n",
      "sS'sherry'\n",
      "p2\n",
      "I1\n",
      "sS'bob'\n",
      "p3\n",
      "I2\n",
      "s.\n",
      "{'cathy': 3, 'sherry': 1, 'bob': 2}\n"
     ]
    }
   ],
   "source": [
    "#객체를 문자열로 저장\n",
    "string = pickle.dumps(persons)\n",
    "print string\n",
    "\n",
    "print pickle.loads(string) # 문자열을 객체로 변환\n",
    "\n",
    "\n",
    "# dumps : 객체를 바이트 형태로 문자열로 저장\n",
    "# loads: 문자열로 저장된 객체를 다시 객체로 변환"
   ]
  },
  {
   "cell_type": "code",
   "execution_count": 11,
   "metadata": {
    "collapsed": true
   },
   "outputs": [],
   "source": [
    "host = '52.14.175.152'"
   ]
  },
  {
   "cell_type": "markdown",
   "metadata": {},
   "source": [
    "* Key- value Practice"
   ]
  },
  {
   "cell_type": "code",
   "execution_count": 13,
   "metadata": {},
   "outputs": [
    {
     "name": "stdout",
     "output_type": "stream",
     "text": [
      "True\n",
      "1\n",
      "10\n",
      "None\n"
     ]
    }
   ],
   "source": [
    "import redis \n",
    "r = redis.Redis(host = host, port= 6379)\n",
    "\n",
    "print r.set('counter', 1)\n",
    "print r.get('counter')\n",
    "\n",
    "\n",
    "r.setex('mykey', 10, 5) # 5초동안 10을 유지\n",
    "print r.get('mykey')\n",
    "\n",
    "import time\n",
    "time.sleep(5) # 5초간 쉬게함 (5초를 지나게 함)\n",
    "\n",
    "print r.get('mykey') #5초 후 다시 확인\n"
   ]
  },
  {
   "cell_type": "markdown",
   "metadata": {},
   "source": [
    "* hash예제"
   ]
  },
  {
   "cell_type": "code",
   "execution_count": 15,
   "metadata": {},
   "outputs": [
    {
     "name": "stdout",
     "output_type": "stream",
     "text": [
      "0\n",
      "True\n",
      "aaron\n",
      "None\n",
      "['aaron', 'test1234']\n",
      "{'field2': 'Wordl', 'password': 'test1234', 'aaron': '1', 'field1': 'hello', 'name': 'aaron'}\n",
      "{'field2': 'Wordl', 'aaron': '1', 'field1': 'hello', 'name': 'aaron'}\n"
     ]
    }
   ],
   "source": [
    "print r.hset('myhash', 'aaron', 1)\n",
    "# myhash라는 hash(dictionary)에 aaron(key) 1(value)\n",
    "\n",
    "print r.hmset('myhash', {'name': 'aaron', 'password':'test1234'})\n",
    "#주어진 dict한번에 설정\n",
    "\n",
    "print r.hget('myhash', 'name')\n",
    "\n",
    "print r.hget('myhash', 'height')\n",
    "#값이 없을 경ㅇ none반환\n",
    "\n",
    "print r.hmget('myhash', ['name', 'password'])\n",
    "# key로 주어진 부분은 한꺼번에 list로도 가능\n",
    "\n",
    "print r.hgetall('myhash')\n",
    "\n",
    "r.hdel('myhash', 'password') # 명시된 key삭제\n",
    "\n",
    "print r.hgetall('myhash')"
   ]
  },
  {
   "cell_type": "markdown",
   "metadata": {},
   "source": [
    "* list예제"
   ]
  },
  {
   "cell_type": "code",
   "execution_count": 18,
   "metadata": {},
   "outputs": [
    {
     "name": "stdout",
     "output_type": "stream",
     "text": [
      "['27', '22', '23', '21', '29']\n",
      "['22', '23', '21', '29']\n",
      "['22', '23', '21']\n",
      "3\n"
     ]
    }
   ],
   "source": [
    "r.delete('mylist2')\n",
    "# delete는 기본적으로 타입에 관계없이 키를 지운다\n",
    "\n",
    "r.lpush('mylist2', 23)\n",
    "r.lpush('mylist2', 22)\n",
    "r.lpush('mylist2', 27)\n",
    "#왼쪽부터 삽입\n",
    "\n",
    "r.rpush('mylist2', 21)\n",
    "r.rpush('mylist2', 29)\n",
    "#오른쪽부터 삽입\n",
    "\n",
    "print r.lrange('mylist2', 0, -1) # 처음부터 끝까지 출력\n",
    "\n",
    "r.lpop('mylist2')#왼쪽제거\n",
    "print r.lrange('mylist2', 0, -1)\n",
    "\n",
    "r.rpop('mylist2') #오른쪽 제거\n",
    "print r.lrange('mylist2', 0, -1)\n",
    "\n",
    "print r.llen('mylist2') #길이\n"
   ]
  },
  {
   "cell_type": "markdown",
   "metadata": {},
   "source": [
    "* Set예제\n"
   ]
  },
  {
   "cell_type": "code",
   "execution_count": 19,
   "metadata": {},
   "outputs": [
    {
     "name": "stdout",
     "output_type": "stream",
     "text": [
      "set([])\n",
      "True\n",
      "False\n"
     ]
    }
   ],
   "source": [
    "r.sadd('myset2', 'mysql')\n",
    "r.sadd('myset2', 'mysql') # set은 중복불가, 한번만 입력\n",
    "r.sadd('myset2', 'mongo')\n",
    "r.sadd('myset2', 'redis')\n",
    "\n",
    "\n",
    "print r.smembers('mysets') # 전체 멤버 나열\n",
    "\n",
    "print r.sismember('myset2', 'redis')\n",
    "print r.sismember('myset2', 'radis')\n"
   ]
  },
  {
   "cell_type": "markdown",
   "metadata": {},
   "source": [
    "실습)\n",
    "redis에 crawling할 url들을 저장하고, 크롤러가 redis에서 크롤링할 url을 이용하도록 수정해보세요"
   ]
  },
  {
   "cell_type": "code",
   "execution_count": null,
   "metadata": {
    "collapsed": true
   },
   "outputs": [],
   "source": []
  }
 ],
 "metadata": {
  "kernelspec": {
   "display_name": "Python 2",
   "language": "python",
   "name": "python2"
  },
  "language_info": {
   "codemirror_mode": {
    "name": "ipython",
    "version": 2
   },
   "file_extension": ".py",
   "mimetype": "text/x-python",
   "name": "python",
   "nbconvert_exporter": "python",
   "pygments_lexer": "ipython2",
   "version": "2.7.13"
  }
 },
 "nbformat": 4,
 "nbformat_minor": 2
}

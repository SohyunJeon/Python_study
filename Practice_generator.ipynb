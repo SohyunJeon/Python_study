{
 "cells": [
  {
   "cell_type": "code",
   "execution_count": 2,
   "metadata": {},
   "outputs": [
    {
     "name": "stdout",
     "output_type": "stream",
     "text": [
      "<type 'list'>\n",
      "[0, 1, 4, 9, 16]\n",
      "0 1 4 9 16\n"
     ]
    }
   ],
   "source": [
    "# list comprehension example\n",
    "lst = [ i**2 for i in range(5)]\n",
    "print type(lst)\n",
    "print lst\n",
    "\n",
    "for num in lst:\n",
    "    print num,"
   ]
  },
  {
   "cell_type": "code",
   "execution_count": 3,
   "metadata": {},
   "outputs": [
    {
     "name": "stdout",
     "output_type": "stream",
     "text": [
      "1 loop, best of 3: 134 ms per loop\n"
     ]
    }
   ],
   "source": [
    "%timeit range(10000000) # list 생성 후, 시간 확인"
   ]
  },
  {
   "cell_type": "code",
   "execution_count": 4,
   "metadata": {},
   "outputs": [
    {
     "name": "stdout",
     "output_type": "stream",
     "text": [
      "The slowest run took 12.88 times longer than the fastest. This could mean that an intermediate result is being cached.\n",
      "1000000 loops, best of 3: 199 ns per loop\n"
     ]
    }
   ],
   "source": [
    "%timeit xrange(10000000) # generator생성, 한번 순회하면 끝"
   ]
  },
  {
   "cell_type": "code",
   "execution_count": 8,
   "metadata": {},
   "outputs": [
    {
     "name": "stdout",
     "output_type": "stream",
     "text": [
      "<type 'generator'>\n",
      "<generator object <genexpr> at 0x046F98C8>\n",
      "0 1 4 9 16\n"
     ]
    }
   ],
   "source": [
    "#generator example\n",
    "\n",
    "gen = (i**2 for i in range(5))\n",
    "\n",
    "print type(gen)\n",
    "print gen # 순회하기 전 까지는 값이 없음. 단지 generator객체\n",
    "\n",
    "for num in gen:\n",
    "    print num, # for 문은 순회하면서 generator를 출력하도록 도와줌\n",
    "    "
   ]
  },
  {
   "cell_type": "code",
   "execution_count": 9,
   "metadata": {},
   "outputs": [
    {
     "name": "stdout",
     "output_type": "stream",
     "text": [
      "<type 'listiterator'>\n",
      "<listiterator object at 0x043F3650>\n"
     ]
    }
   ],
   "source": [
    "it = iter(range(5)) #순환 객체 반환\n",
    "\n",
    "print type(it)\n",
    "print it #it는 순회하는 추상회된 포인터"
   ]
  },
  {
   "cell_type": "code",
   "execution_count": 10,
   "metadata": {},
   "outputs": [
    {
     "name": "stdout",
     "output_type": "stream",
     "text": [
      "0\n",
      "1\n",
      "2\n",
      "3\n",
      "4\n"
     ]
    },
    {
     "ename": "StopIteration",
     "evalue": "",
     "output_type": "error",
     "traceback": [
      "\u001b[1;31m---------------------------------------------------------------------------\u001b[0m",
      "\u001b[1;31mStopIteration\u001b[0m                             Traceback (most recent call last)",
      "\u001b[1;32m<ipython-input-10-71f4493aba95>\u001b[0m in \u001b[0;36m<module>\u001b[1;34m()\u001b[0m\n\u001b[0;32m      7\u001b[0m \u001b[1;32mprint\u001b[0m \u001b[0mnext\u001b[0m\u001b[1;33m(\u001b[0m\u001b[0mit\u001b[0m\u001b[1;33m)\u001b[0m\u001b[1;33m\u001b[0m\u001b[0m\n\u001b[0;32m      8\u001b[0m \u001b[1;33m\u001b[0m\u001b[0m\n\u001b[1;32m----> 9\u001b[1;33m \u001b[1;32mprint\u001b[0m \u001b[0mnext\u001b[0m\u001b[1;33m(\u001b[0m\u001b[0mit\u001b[0m\u001b[1;33m)\u001b[0m \u001b[1;31m#더 이상 순회할 아이템에 없을 때 Stopiteration발생\u001b[0m\u001b[1;33m\u001b[0m\u001b[0m\n\u001b[0m",
      "\u001b[1;31mStopIteration\u001b[0m: "
     ]
    }
   ],
   "source": [
    "it = iter(range(5))\n",
    "\n",
    "print next(it)\n",
    "print next(it)\n",
    "print next(it)\n",
    "print next(it)\n",
    "print next(it)\n",
    "\n",
    "print next(it) #더 이상 순회할 아이템에 없을 때 Stopiteration발생"
   ]
  },
  {
   "cell_type": "code",
   "execution_count": 11,
   "metadata": {},
   "outputs": [
    {
     "name": "stdout",
     "output_type": "stream",
     "text": [
      "0\n"
     ]
    }
   ],
   "source": [
    "# iterator객체의 next 멤버함수도 이용가능\n",
    "\n",
    "it = iter(range(5))\n",
    "\n",
    "print it.next()"
   ]
  },
  {
   "cell_type": "code",
   "execution_count": 12,
   "metadata": {},
   "outputs": [
    {
     "name": "stdout",
     "output_type": "stream",
     "text": [
      "0 1 2 3 4\n"
     ]
    }
   ],
   "source": [
    "# for문:내부적으로 iterator와 next를 사용한 코드로 구성\n",
    "#StopIteration이 발생하기 전까지 next를 호출\n",
    "\n",
    "it = iter(range(5))\n",
    "\n",
    "for num in it:\n",
    "    print num,"
   ]
  },
  {
   "cell_type": "code",
   "execution_count": 13,
   "metadata": {},
   "outputs": [
    {
     "name": "stdout",
     "output_type": "stream",
     "text": [
      "0 1 2 3 4\n"
     ]
    }
   ],
   "source": [
    "#while을 사용한 iterator객체\n",
    "\n",
    "it = iter(range(5))\n",
    "\n",
    "while True:\n",
    "    try:\n",
    "        val = it.next()\n",
    "        print val,\n",
    "    except StopIteration:\n",
    "        break"
   ]
  },
  {
   "cell_type": "code",
   "execution_count": 7,
   "metadata": {
    "collapsed": true
   },
   "outputs": [],
   "source": [
    "#Customer iterable object : iterable, iterator가 필요\n",
    "\n",
    "class Zrange(object):\n",
    "    def __init__(self, n):\n",
    "        self.n = n\n",
    "        \n",
    "    def __iter__(self):\n",
    "        return Zrange_iter(self.n)\n",
    "    \n",
    "class Zrange_iter(object):\n",
    "    def __init__(self, n):\n",
    "        self.i = 0\n",
    "        self.n = n\n",
    "    \n",
    "    def next(self): \n",
    "        if self.i < self.n:\n",
    "            val = self.i # i를 증가하기 전에 미리 빼둠\n",
    "            self.i += 1\n",
    "            return val\n",
    "        else:\n",
    "            raise StopIteration()"
   ]
  },
  {
   "cell_type": "code",
   "execution_count": 10,
   "metadata": {},
   "outputs": [
    {
     "name": "stdout",
     "output_type": "stream",
     "text": [
      "0 1 2 3 4\n"
     ]
    }
   ],
   "source": [
    "z = Zrange(5)\n",
    " \n",
    "for num in z:\n",
    "    print num,\n",
    "    "
   ]
  },
  {
   "cell_type": "code",
   "execution_count": 4,
   "metadata": {},
   "outputs": [
    {
     "name": "stdout",
     "output_type": "stream",
     "text": [
      "[100, 20, 50, 33]\n"
     ]
    }
   ],
   "source": [
    "arr = [1, 5, 2, 3]\n",
    "\n",
    "def test_raise(arr):\n",
    "    num = 100\n",
    "    result = []\n",
    "    \n",
    "    for i in arr:\n",
    "        if i== 0:\n",
    "            raise Exception ('divistion by zero')\n",
    "            \n",
    "        result.append(num/i)\n",
    "        \n",
    "    print result\n",
    "    \n",
    "    \n",
    "    \n",
    "try:\n",
    "    test_raise(arr)\n",
    "    \n",
    "except Exception, e:\n",
    "    print e\n",
    "    "
   ]
  },
  {
   "cell_type": "code",
   "execution_count": 11,
   "metadata": {},
   "outputs": [
    {
     "name": "stdout",
     "output_type": "stream",
     "text": [
      "5\n",
      "4\n",
      "3\n",
      "2\n",
      "1\n"
     ]
    }
   ],
   "source": [
    "# 거꾸로 값을 순회\n",
    "\n",
    "class reverse_range(object):\n",
    "    \n",
    "    def __init__(self, n):\n",
    "        self.n = n\n",
    "        \n",
    "    def __iter__(self):\n",
    "        return self\n",
    "    \n",
    "    def next(self):\n",
    "        if 0 < self.n:\n",
    "            val = self.n\n",
    "            self.n -=1\n",
    "            return val\n",
    "        else:\n",
    "            raise StopIteration()\n",
    "            \n",
    "for i in reverse_range(5):\n",
    "    print i,\n",
    "        \n",
    "    "
   ]
  },
  {
   "cell_type": "code",
   "execution_count": 14,
   "metadata": {},
   "outputs": [
    {
     "name": "stdout",
     "output_type": "stream",
     "text": [
      "0\n",
      "1\n"
     ]
    }
   ],
   "source": [
    "gen = (i **2 for i in range(5))\n",
    "\n",
    "print next(gen)\n",
    "print next(gen)"
   ]
  },
  {
   "cell_type": "code",
   "execution_count": 16,
   "metadata": {},
   "outputs": [
    {
     "name": "stdout",
     "output_type": "stream",
     "text": [
      "0 1 4 9 16\n"
     ]
    }
   ],
   "source": [
    "gen = (i**2 for i in range(5))\n",
    "\n",
    "for num in gen:\n",
    "    print num,\n",
    "    \n",
    "for num in gen: # 이미 순회하였기 때문에 출력되지 않음\n",
    "    print num,"
   ]
  },
  {
   "cell_type": "code",
   "execution_count": 17,
   "metadata": {
    "collapsed": true
   },
   "outputs": [],
   "source": [
    "def generate_org(n):\n",
    "    i = 0\n",
    "    lst = []\n",
    "    \n",
    "    while i < n:\n",
    "        lst.append(i)\n",
    "        i+=1\n",
    "    return lst\n",
    "# 이건 일반함수\n",
    "\n",
    "\n",
    "def generate(n):\n",
    "    i = 0\n",
    "    while i < n:\n",
    "        yield i\n",
    "        i+=1"
   ]
  },
  {
   "cell_type": "code",
   "execution_count": 24,
   "metadata": {},
   "outputs": [
    {
     "name": "stdout",
     "output_type": "stream",
     "text": [
      "<generator object generate at 0x03FE7F80>\n"
     ]
    }
   ],
   "source": [
    "gen = generate(5)\n",
    "\n",
    "print gen"
   ]
  },
  {
   "cell_type": "code",
   "execution_count": 25,
   "metadata": {},
   "outputs": [
    {
     "name": "stdout",
     "output_type": "stream",
     "text": [
      "0\n"
     ]
    }
   ],
   "source": [
    "print gen.next() # 실행은 이때부터"
   ]
  },
  {
   "cell_type": "code",
   "execution_count": 26,
   "metadata": {},
   "outputs": [
    {
     "name": "stdout",
     "output_type": "stream",
     "text": [
      "1\n",
      "2\n"
     ]
    }
   ],
   "source": [
    "print gen.next()\n",
    "print gen.next()"
   ]
  },
  {
   "cell_type": "code",
   "execution_count": 31,
   "metadata": {
    "collapsed": true
   },
   "outputs": [],
   "source": [
    "def generate2(n):\n",
    "    print 'started'\n",
    "    \n",
    "    i = 0\n",
    "    while i < n:\n",
    "        print 'before yield', i\n",
    "        yield i \n",
    "        i += 1\n",
    "        print 'after yield', i\n",
    "        \n",
    "    print 'ended'"
   ]
  },
  {
   "cell_type": "code",
   "execution_count": 29,
   "metadata": {},
   "outputs": [
    {
     "name": "stdout",
     "output_type": "stream",
     "text": [
      "started\n",
      "before yield 0\n",
      "0 after yield 1\n",
      "before yield 1\n",
      "1 after yield 2\n",
      "before yield 2\n",
      "2 after yield 3\n",
      "ended\n"
     ]
    }
   ],
   "source": [
    "gen2 = generate2(3)\n",
    "\n",
    "for i in gen2:\n",
    "    print i,"
   ]
  },
  {
   "cell_type": "code",
   "execution_count": 33,
   "metadata": {},
   "outputs": [
    {
     "name": "stdout",
     "output_type": "stream",
     "text": [
      "started\n",
      "before yield 0\n"
     ]
    },
    {
     "data": {
      "text/plain": [
       "0"
      ]
     },
     "execution_count": 33,
     "metadata": {},
     "output_type": "execute_result"
    }
   ],
   "source": [
    "gen2 = generate2(3)\n",
    "gen2.next()"
   ]
  },
  {
   "cell_type": "code",
   "execution_count": 35,
   "metadata": {},
   "outputs": [
    {
     "name": "stdout",
     "output_type": "stream",
     "text": [
      "30\n"
     ]
    }
   ],
   "source": [
    "gen = (x**2 for x in range(5))\n",
    "print sum(gen)"
   ]
  },
  {
   "cell_type": "code",
   "execution_count": 36,
   "metadata": {},
   "outputs": [
    {
     "name": "stdout",
     "output_type": "stream",
     "text": [
      "1 loop, best of 3: 133 ms per loop\n"
     ]
    }
   ],
   "source": [
    "% timeit range(int(1e7))"
   ]
  },
  {
   "cell_type": "code",
   "execution_count": 37,
   "metadata": {},
   "outputs": [
    {
     "name": "stdout",
     "output_type": "stream",
     "text": [
      "The slowest run took 12.92 times longer than the fastest. This could mean that an intermediate result is being cached.\n",
      "1000000 loops, best of 3: 396 ns per loop\n"
     ]
    }
   ],
   "source": [
    "% timeit xrange(int(1e7))"
   ]
  },
  {
   "cell_type": "code",
   "execution_count": 38,
   "metadata": {},
   "outputs": [
    {
     "name": "stdout",
     "output_type": "stream",
     "text": [
      "0 1 2 3 4 5 6 7 8 9 10 11 12 13 14 15 16 17 18 19 20 21 22 23 24 25 26 27 28 29 30 31 32 33 34 35 36 37 38 39 40 41 42 43 44 45 46 47 48 49 50 51 52 53 54 55 56 57 58 59 60 61 62 63 64 65 66 67 68 69 70 71 72 73 74 75 76 77 78 79 80 81 82 83 84 85 86 87 88 89 90 91 92 93 94 95 96 97 98 99\n"
     ]
    }
   ],
   "source": [
    "for i in xrange(100): # 순회에 사용가능\n",
    "    print i,"
   ]
  },
  {
   "cell_type": "code",
   "execution_count": null,
   "metadata": {
    "collapsed": true
   },
   "outputs": [],
   "source": []
  }
 ],
 "metadata": {
  "kernelspec": {
   "display_name": "Python 2",
   "language": "python",
   "name": "python2"
  },
  "language_info": {
   "codemirror_mode": {
    "name": "ipython",
    "version": 2
   },
   "file_extension": ".py",
   "mimetype": "text/x-python",
   "name": "python",
   "nbconvert_exporter": "python",
   "pygments_lexer": "ipython2",
   "version": "2.7.13"
  }
 },
 "nbformat": 4,
 "nbformat_minor": 2
}
